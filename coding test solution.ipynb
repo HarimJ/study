{
 "cells": [
  {
   "cell_type": "markdown",
   "metadata": {},
   "source": [
    "# 문제 1"
   ]
  },
  {
   "cell_type": "code",
   "execution_count": 2,
   "metadata": {},
   "outputs": [
    {
     "name": "stdout",
     "output_type": "stream",
     "text": [
      "65\n"
     ]
    }
   ],
   "source": [
    "print(ord('A'))"
   ]
  },
  {
   "cell_type": "code",
   "execution_count": 3,
   "metadata": {},
   "outputs": [
    {
     "name": "stdout",
     "output_type": "stream",
     "text": [
      "A\n"
     ]
    }
   ],
   "source": [
    "print(chr(65))"
   ]
  },
  {
   "cell_type": "code",
   "execution_count": 4,
   "metadata": {},
   "outputs": [
    {
     "name": "stdout",
     "output_type": "stream",
     "text": [
      "74\n",
      "69\n",
      "74\n",
      "85\n"
     ]
    }
   ],
   "source": [
    "print(ord('J'))\n",
    "print(ord('E'))\n",
    "print(ord('J'))\n",
    "print(ord('U'))"
   ]
  },
  {
   "cell_type": "code",
   "execution_count": 21,
   "metadata": {},
   "outputs": [
    {
     "name": "stdout",
     "output_type": "stream",
     "text": [
      "+--+-+-\n",
      "+---+-+\n",
      "+--+-+-\n",
      "+-+-+-+\n"
     ]
    }
   ],
   "source": [
    "# binary string에서는 앞에 0b가 붙으니 꼭 [2:]를 사용해서 제거하고 이진수만 뽑기\n",
    "print(bin(74)[2:].replace('1','+').replace('0','-'))\n",
    "print(bin(69)[2:].replace('1','+').replace('0','-'))\n",
    "print(bin(74)[2:].replace('1','+').replace('0','-'))\n",
    "print(bin(85)[2:].replace('1','+').replace('0','-'))\n",
    "\n",
    "#print(bin(74))  => 0b1001010"
   ]
  },
  {
   "cell_type": "code",
   "execution_count": 45,
   "metadata": {},
   "outputs": [
    {
     "data": {
      "text/plain": [
       "'J'"
      ]
     },
     "execution_count": 45,
     "metadata": {},
     "output_type": "execute_result"
    }
   ],
   "source": [
    "# strip() 함수를 사용하면 주어진 문자열에서 양쪽 끝에 있는 공백과 \\n 기호를 삭제시켜 준다\n",
    "inputString = [' +--+-+- ',\n",
    "               ' +---+-+ ',\n",
    "               ' +--+-+- ',\n",
    "               ' +-+-+-+ ']\n",
    "# 빈공간 없애기\n",
    "inputString[0].strip()\n",
    "# 띄어쓰기 바꾸기\n",
    "inputString[0].strip().replace(' ','')\n",
    "# +를 1로 , -를 0으로 바꾸기\n",
    "inputString[0].strip().replace(' ','').replace('+', '1').replace('-','0')\n",
    "# 바꾼 수를 integer로 출력하기 (2 : 2진법으로 표현된것을 10진법으로)\n",
    "int(inputString[0].strip().replace(' ','').replace('+','1').replace('-','0'),2)\n",
    "chr(int(inputString[0].replace(' ','').replace('+','1').replace('-','0'),2))"
   ]
  },
  {
   "cell_type": "code",
   "execution_count": 49,
   "metadata": {},
   "outputs": [],
   "source": [
    "# 위에 코드를 for문을 사용해 한번에 바꾸기\n",
    "change = [chr(int(i.strip().replace(' ','').replace('+','1').replace('-','0'),2)) for i in inputString]"
   ]
  },
  {
   "cell_type": "code",
   "execution_count": 50,
   "metadata": {},
   "outputs": [
    {
     "data": {
      "text/plain": [
       "'JEJU'"
      ]
     },
     "execution_count": 50,
     "metadata": {},
     "output_type": "execute_result"
    }
   ],
   "source": [
    "# 공백 없이 붙이기\n",
    "''.join(change)\n",
    "\n",
    "# chage\n",
    "# ['J', 'E', 'J', 'U']"
   ]
  },
  {
   "cell_type": "code",
   "execution_count": 66,
   "metadata": {},
   "outputs": [
    {
     "data": {
      "text/plain": [
       "'JEJU'"
      ]
     },
     "execution_count": 66,
     "metadata": {},
     "output_type": "execute_result"
    }
   ],
   "source": [
    "# for문을 이용한 알고리즘\n",
    "t = ['+--+-+-','+---+-+','+--+-+-','+-+-+-+']\n",
    "l = [idx.replace('+','1').replace('-','0') for idx in t]\n",
    "\n",
    "# l 을 문자형으로 프린트하기\n",
    "change_1 = list(map(lambda x : chr(int(x, 2)), l))\n",
    "# 합지기\n",
    "''.join(change_1)"
   ]
  },
  {
   "cell_type": "markdown",
   "metadata": {},
   "source": [
    "# 문제 2"
   ]
  },
  {
   "cell_type": "code",
   "execution_count": 88,
   "metadata": {},
   "outputs": [],
   "source": [
    "돌의내구도 = [1, 2, 1, 4]\n",
    "독 = [{\n",
    "    \"이름\" : \"루비독\",\n",
    "    \"나이\" : \"95년생\",\n",
    "    \"점프력\" : \"3\",\n",
    "    \"몸무게\" : \"4\",\n",
    "    },{\n",
    "    \"이름\" : \"피치독\",\n",
    "    \"나이\" : \"95년생\",\n",
    "    \"점프력\" : \"3\",\n",
    "    \"몸무게\" : \"3\",\n",
    "    },{\n",
    "    \"이름\" : \"씨-독\",\n",
    "    \"나이\" : \"72년생\",\n",
    "    \"점프력\" : \"2\",\n",
    "    \"몸무게\" : \"1\",\n",
    "    },{\n",
    "    \"이름\" : \"코볼독\",\n",
    "    \"나이\" : \"59년생\",\n",
    "    \"점프력\" : \"1\",\n",
    "    \"몸무게\" : \"1\",\n",
    "    },\n",
    "]"
   ]
  },
  {
   "cell_type": "code",
   "execution_count": 81,
   "metadata": {},
   "outputs": [
    {
     "data": {
      "text/plain": [
       "{'이름': '루비독', '나이': '95년생', '점프력': '3', '몸무게': '4'}"
      ]
     },
     "execution_count": 81,
     "metadata": {},
     "output_type": "execute_result"
    }
   ],
   "source": [
    "# json 연습\n",
    "import json\n",
    "\n",
    "JSON독 = json.dumps(독, ensure_ascii=False)\n",
    "JSON독 = json.loads(JSON독)\n",
    "JSON독[0]"
   ]
  },
  {
   "cell_type": "code",
   "execution_count": 76,
   "metadata": {},
   "outputs": [
    {
     "name": "stdout",
     "output_type": "stream",
     "text": [
      "['루비독', '피치독', '씨-독', '코볼독']\n",
      "None\n"
     ]
    }
   ],
   "source": [
    "# 이름 순회하고 출력하기\n",
    "def 징검다리를건너라(돌의내구도, 독) :\n",
    "    answer = [독[i]['이름'] for i in range(len(독))]\n",
    "    print(answer)\n",
    "    \n",
    "print(징검다리를건너라(돌의내구도, 독))"
   ]
  },
  {
   "cell_type": "code",
   "execution_count": 77,
   "metadata": {},
   "outputs": [
    {
     "name": "stdout",
     "output_type": "stream",
     "text": [
      "['루비독', '피치독', '씨-독', '코볼독']\n",
      "None\n"
     ]
    }
   ],
   "source": [
    "# 이름 출력 방법 2\n",
    "def 징검다리를건너라(돌의내구도, 독):\n",
    "    answer = [i['이름'] for i in 독]\n",
    "    print(answer)\n",
    "    \n",
    "print(징검다리를건너라(돌의내구도, 독))"
   ]
  },
  {
   "cell_type": "code",
   "execution_count": 79,
   "metadata": {},
   "outputs": [
    {
     "name": "stdout",
     "output_type": "stream",
     "text": [
      "['루비독', '피치독', '씨-독', '코볼독']\n",
      "['씨-독']\n"
     ]
    }
   ],
   "source": [
    "# 여기서 break는 반복문 하나만을 탈출\n",
    "def 징검다리를건너라(돌의내구도, 독):\n",
    "    answer = [i['이름'] for i in 독]\n",
    "    print(answer)\n",
    "    for i in 독:\n",
    "        독의위치 = 0\n",
    "        while 독의위치 < len(돌의내구도)-1:\n",
    "            독의위치 += int(i['점프력'])\n",
    "            돌의내구도[독의위치-1] -= int(i['몸무게'])\n",
    "            if 돌의내구도[독의위치-1] < 0:\n",
    "                answer[answer.index(i['이름'])] = 'fail'\n",
    "                break\n",
    "    return [i for i in answer if i != 'fail']   # != : 값이 동일하지 않다\n",
    "\n",
    "print(징검다리를건너라(돌의내구도.copy(), 독.copy()))"
   ]
  },
  {
   "cell_type": "code",
   "execution_count": 89,
   "metadata": {},
   "outputs": [
    {
     "name": "stdout",
     "output_type": "stream",
     "text": [
      "['씨-독']\n"
     ]
    }
   ],
   "source": [
    "# 모든 이름 출력 지우기\n",
    "\n",
    "def 징검다리를건너라(돌의내구도, 독):\n",
    "    answer = [i['이름'] for i in 독]\n",
    "#    print(answer)\n",
    "    for i in 독:\n",
    "        독의위치 = 0\n",
    "        while 독의위치 < len(돌의내구도)-1:\n",
    "            독의위치 += int(i['점프력'])\n",
    "            돌의내구도[독의위치-1] -= int(i['몸무게'])\n",
    "            if 돌의내구도[독의위치-1] < 0:\n",
    "                del answer[answer.index(i['이름'])]\n",
    "                break\n",
    "    return answer \n",
    "\n",
    "print(징검다리를건너라(돌의내구도.copy(), 독.copy()))"
   ]
  },
  {
   "cell_type": "markdown",
   "metadata": {},
   "source": [
    "# 문제 3"
   ]
  },
  {
   "cell_type": "code",
   "execution_count": null,
   "metadata": {},
   "outputs": [],
   "source": [
    "# 배에 타는 순간 자바독이 화장실이 급하다 하여 화장실에 갔으며, 현재시간에 '분'만큼 배 출발이 늦어졌습니다. ??\n",
    "# => 현재시간은 지금 각자의 현재 리얼타임\n",
    "# 며칠 후 몇시에 섬으로 건너갈 수 있을지를 구하시오. <- 기준이 오늘? "
   ]
  },
  {
   "cell_type": "code",
   "execution_count": 1,
   "metadata": {},
   "outputs": [],
   "source": [
    "대기인원 = 14000605\n",
    "#대기인원 = 1200202\n",
    "\n",
    "# 9시       25   25\n",
    "# 9시 10분  15   40\n",
    "# 9시 20분  15   55\n",
    "# 9시 30분  15   70\n",
    "# 9시 40분  15   85\n",
    "# 9시 50분  15   100\n",
    "\n",
    "# 100명씩 12시간 -> 하루 -> 1200명"
   ]
  },
  {
   "cell_type": "code",
   "execution_count": 2,
   "metadata": {},
   "outputs": [
    {
     "data": {
      "text/plain": [
       "11667.170833333334"
      ]
     },
     "execution_count": 2,
     "metadata": {},
     "output_type": "execute_result"
    }
   ],
   "source": [
    "# 몇일후에 갈 수 있을지.  =>11667.170833333334일 (약 11668일)\n",
    "대기인원/1200"
   ]
  },
  {
   "cell_type": "code",
   "execution_count": 3,
   "metadata": {},
   "outputs": [
    {
     "data": {
      "text/plain": [
       "2046"
      ]
     },
     "execution_count": 3,
     "metadata": {},
     "output_type": "execute_result"
    }
   ],
   "source": [
    "# 1024  (<-1월 : 2^10)\n",
    "# 512  : 2월\n",
    "# 256  : 3월\n",
    "\n",
    "# 1~11의 2의 제곱들을 다 더한 값\n",
    "y = 0\n",
    "for i in range(1,11):    \n",
    "    y += 2 ** i\n",
    "\n",
    "# 일년의 일수 (2^1 + ... + 2^10)\n",
    "y "
   ]
  },
  {
   "cell_type": "code",
   "execution_count": 4,
   "metadata": {},
   "outputs": [
    {
     "data": {
      "text/plain": [
       "5.702346041055718"
      ]
     },
     "execution_count": 4,
     "metadata": {},
     "output_type": "execute_result"
    }
   ],
   "source": [
    "11667/y   \n",
    "# 즉, 약 5년이 걸린다"
   ]
  },
  {
   "cell_type": "code",
   "execution_count": 5,
   "metadata": {},
   "outputs": [
    {
     "data": {
      "text/plain": [
       "1437"
      ]
     },
     "execution_count": 5,
     "metadata": {},
     "output_type": "execute_result"
    }
   ],
   "source": [
    "# 나누고 난 나머지 (즉, 약 5년 2개원정도)\n",
    "11667 % y"
   ]
  },
  {
   "cell_type": "code",
   "execution_count": 6,
   "metadata": {},
   "outputs": [
    {
     "data": {
      "text/plain": [
       "205"
      ]
     },
     "execution_count": 6,
     "metadata": {},
     "output_type": "execute_result"
    }
   ],
   "source": [
    "# 나머지 명수 (당일남은 명수)\n",
    "대기인원 - (1200 * 11667)"
   ]
  },
  {
   "cell_type": "code",
   "execution_count": 7,
   "metadata": {},
   "outputs": [
    {
     "data": {
      "text/plain": [
       "datetime.datetime(2020, 5, 1, 14, 1, 43, 603522)"
      ]
     },
     "execution_count": 7,
     "metadata": {},
     "output_type": "execute_result"
    }
   ],
   "source": [
    "# 205명이니까 9시 50분 + 알파\n",
    "# 리얼타임\n",
    "import datetime\n",
    "\n",
    "오늘시간 = datetime.datetime.today()\n",
    "오늘시간"
   ]
  },
  {
   "cell_type": "code",
   "execution_count": 8,
   "metadata": {},
   "outputs": [
    {
     "data": {
      "text/plain": [
       "43"
      ]
     },
     "execution_count": 8,
     "metadata": {},
     "output_type": "execute_result"
    }
   ],
   "source": [
    "오늘시간.year\n",
    "오늘시간.month\n",
    "오늘시간.day\n",
    "오늘시간.minute\n",
    "오늘시간.second"
   ]
  },
  {
   "cell_type": "code",
   "execution_count": 9,
   "metadata": {},
   "outputs": [
    {
     "data": {
      "text/plain": [
       "51"
      ]
     },
     "execution_count": 9,
     "metadata": {},
     "output_type": "execute_result"
    }
   ],
   "source": [
    "50 + 오늘시간.minute  # (50 + 50)\n",
    "# 100 이렇게 나오면 안된다 "
   ]
  },
  {
   "cell_type": "code",
   "execution_count": 13,
   "metadata": {},
   "outputs": [
    {
     "name": "stdout",
     "output_type": "stream",
     "text": [
      "9:51\n"
     ]
    }
   ],
   "source": [
    "# 시간 출력 시계 모양처럼 출력하기\n",
    "timeHour = 9\n",
    "timeMinute = 50\n",
    "timeMinuteSum = timeMinute + 오늘시간.minute\n",
    "\n",
    "if(timeMinuteSum >= 60):\n",
    "    print(f'{timeHour+1}:{timeMinuteSum-60}')\n",
    "else:\n",
    "    print(f'{timeHour}:{timeMinuteSum}')"
   ]
  },
  {
   "cell_type": "code",
   "execution_count": 14,
   "metadata": {},
   "outputs": [
    {
     "data": {
      "text/plain": [
       "'hello     '"
      ]
     },
     "execution_count": 14,
     "metadata": {},
     "output_type": "execute_result"
    }
   ],
   "source": [
    "# 만약 10시 정각일때 10:00 이렇게 나오지 10:0 이렇게 표시를 안하니까, 10:00이 될수 있게 분자리 두자리수 만들기\n",
    "\n",
    "'{0:<10}'.format('hello')\n",
    "# 10자리를 맞춰서 hello 출력하기. (만약 < 아니라 >면 :'     hello')"
   ]
  },
  {
   "cell_type": "code",
   "execution_count": 16,
   "metadata": {},
   "outputs": [
    {
     "name": "stdout",
     "output_type": "stream",
     "text": [
      "10:01\n"
     ]
    }
   ],
   "source": [
    "print(f'{10}:{1:>2}'.replace(' ','0'))"
   ]
  },
  {
   "cell_type": "code",
   "execution_count": 17,
   "metadata": {},
   "outputs": [
    {
     "data": {
      "text/plain": [
       "'000000000hello workd'"
      ]
     },
     "execution_count": 17,
     "metadata": {},
     "output_type": "execute_result"
    }
   ],
   "source": [
    "# zfill 도 할수 있다. (앞에 공간은 0으로 채우기 (20자리를))\n",
    "'hello workd'.zfill(20)"
   ]
  },
  {
   "cell_type": "code",
   "execution_count": 25,
   "metadata": {},
   "outputs": [
    {
     "name": "stdout",
     "output_type": "stream",
     "text": [
      "5년 2월 413일 11시 51분\n"
     ]
    }
   ],
   "source": [
    "대기인원 = 14000605\n",
    "#대기인원 = 1200202\n",
    "\n",
    "오늘시간 = datetime.datetime.today()\n",
    "\n",
    "def solution(대기인원):\n",
    "    출발분 = [25, 40, 55, 70, 85, 100] # 딕셔너리 만들기\n",
    "    \n",
    "    대기일수 = 대기인원//1200   # // : 몫\n",
    "    당일남은인원 = 대기인원%1200\n",
    "    대기연도 = 대기일수//2046   # 2046 : 일년동안 일수\n",
    "    대기일수 = 대기일수%2046\n",
    "    \n",
    "    # 대기월수 (1~10월)\n",
    "    월별일누적일수 = 0\n",
    "    대기월수 = 0  \n",
    "    for i in range(10,0, -1):  # 1월부터 10월까지 2의 제곱들이 하나씩 내려가니까\n",
    "        \n",
    "        if 월별일누적일수 > 대기일수:  # 대기일수가 각 월의 일수보다 크면 그 다음달로 넘어감\n",
    "            대기일수 = 대기일수 - 월별일누적일수 + (2 ** (i+1))  # -값이 안나오게\n",
    "            break                   # 만약 안넘으면 바로 break\n",
    "        월별일누적일수 += 2 **i     # 만약 넘으면 그 전달 일수를 빼주기\n",
    "        대기월수 += 1  # 1월부터 시작    \n",
    "        \n",
    "        \n",
    "    당일출발_시 = 당일남은인원//100+9    # 9시를 더해준다\n",
    "    당일출발_분 = 당일남은인원%100\n",
    "    for i in 출발분:\n",
    "        if i> 당일출발_분:\n",
    "            당일출발_분 = 출발분.index(i) * 10\n",
    "            break # 당일에 출발할 수 있다\n",
    "            \n",
    "# 시간 form            \n",
    "    당일출발_분_합 = 당일출발_분 + 오늘시간.minute\n",
    "    if(당일출발_분_합 >= 60):\n",
    "        당일출발_시 += 1\n",
    "        당일출발_분_합 -= 60\n",
    "    \n",
    "    return f'{대기연도}년 {대기월수}월 {대기일수}일 {당일출발_시}시 {당일출발_분_합}분'\n",
    "\n",
    "print(solution(대기인원))"
   ]
  },
  {
   "cell_type": "markdown",
   "metadata": {},
   "source": [
    "# 문제 4"
   ]
  },
  {
   "cell_type": "code",
   "execution_count": 26,
   "metadata": {},
   "outputs": [
    {
     "data": {
      "text/plain": [
       "303"
      ]
     },
     "execution_count": 26,
     "metadata": {},
     "output_type": "execute_result"
    }
   ],
   "source": [
    "동물 = ['척추동물', '어류', '척추동물', '무척추동물', '파충류', '척추동물', '어류', '파충류']\n",
    "\n",
    "def solution(동물, 자리):\n",
    "    의자 = [] * 자리\n",
    "    answer = 0\n",
    "    for i in 동물:\n",
    "        if len(의자) < 3:\n",
    "            if i in 의자:\n",
    "                의자.append(의자.pop(0))\n",
    "                answer += 1\n",
    "            else:\n",
    "                의자.append(i)\n",
    "                answer += 60\n",
    "        else:\n",
    "            if i in 의자:\n",
    "                의자.append(의자.pop(0))\n",
    "                answer += 1\n",
    "            else:\n",
    "                의자.pop(0)\n",
    "                의자.append(i)\n",
    "                answer += 60\n",
    "    \n",
    "    return answer\n",
    "    \n",
    "    \n",
    "solution(동물, 3)"
   ]
  },
  {
   "cell_type": "code",
   "execution_count": null,
   "metadata": {},
   "outputs": [],
   "source": [
    "'''\n",
    "동물 = ['척추동물', '어류', '척추동물', '무척추동물', '파충류', '척추동물', '어류', '파충류']\n",
    "1회 : ['척추동물'] # False\n",
    "2회 : ['척추동물','어류'] # False\n",
    "3회 : ['어류','척추동물'] # Hit\n",
    "4회 : ['어류', '척추동물','무척추동물'] # False\n",
    "5회 : ['척추동물', '무척추동물', '파충류'] # False\n",
    "6회 : ['무척추동물','파충류','척추동물'] # Hit\n",
    "7회 : ['파충류','척추동물','어류'] # False\n",
    "8회 : ['척추동물','어류','파충류'] # Hit\n",
    "\n",
    "'''"
   ]
  },
  {
   "cell_type": "code",
   "execution_count": 32,
   "metadata": {},
   "outputs": [
    {
     "data": {
      "text/plain": [
       "'5분 3초'"
      ]
     },
     "execution_count": 32,
     "metadata": {},
     "output_type": "execute_result"
    }
   ],
   "source": [
    "동물 = ['척추동물', '어류', '척추동물', '무척추동물', '파충류', '척추동물', '어류', '파충류']\n",
    "\n",
    "def solution(동물, 자리):\n",
    "    의자 = []*자리\n",
    "    answer = 0\n",
    "    \n",
    "    for i in 동물 :\n",
    "        if len(의자) < 3:\n",
    "            if i in 의자:   # 비어있는 자리가 있는데 나랑 같은 종의 동물이 있을때 (hit)\n",
    "                히트된페이지 = 의자.pop(의자.index(i))\n",
    "                의자.append(히트된페이지)   # 맨 앞에 것을 빼겠다. \n",
    "                                          # pop() 함수는 리스트의 맨 마지막 요소를 꺼내줍니다. \n",
    "                                          # pop(0) 처럼 인덱스를 지정해서 꺼낼수 도 있다     \n",
    "                answer += 1\n",
    "            else:  # 의자가 있는데 나랑 다른 종의 동물이 있을 때 \n",
    "                의자.append(i)\n",
    "                answer += 60\n",
    "                \n",
    "        else:  # 의자가 꽉 찼을때\n",
    "            if i in 의자:\n",
    "                히트된페이지 = 의자.pop(의자.index(i))\n",
    "                의자.append(히트된페이지)        \n",
    "                answer += 1\n",
    "            else: \n",
    "                의자.pop(0)   # 최근에 히트 된 적이 없는 맫 앞자리 동물을 빼기\n",
    "                의자.append(i) # 그리고 내가 새로 앉는거. \n",
    "                answer += 60\n",
    "\n",
    "# 303을 분,초로 만들기                \n",
    "    return f'{answer//60}분 {answer%60}초'         \n",
    "            \n",
    "solution(동물, 3)"
   ]
  },
  {
   "cell_type": "markdown",
   "metadata": {},
   "source": [
    "# 문제 5"
   ]
  },
  {
   "cell_type": "markdown",
   "metadata": {},
   "source": [
    "너비우선 = Q   \n",
    "깊이우선 = stack"
   ]
  },
  {
   "cell_type": "code",
   "execution_count": 33,
   "metadata": {},
   "outputs": [],
   "source": [
    "graph = {100: set([67, 66]),\n",
    "         67: set([100, 82, 63]),\n",
    "         66: set([100, 73, 69]),\n",
    "         82: set([67, 61, 79]),\n",
    "         63: set([67]),\n",
    "         73: set([66]),\n",
    "         69: set([66, 65, 81]),\n",
    "         61: set([82]),\n",
    "         79: set([82, 87, 77]),\n",
    "         65: set([69, 84, 99]),\n",
    "         81: set([69]),\n",
    "         87: set([79, 31, 78]),\n",
    "         77: set([79]),\n",
    "         84: set([65]),\n",
    "         99: set([65]),\n",
    "         31: set([87]),\n",
    "         78: set([87])}"
   ]
  },
  {
   "cell_type": "code",
   "execution_count": 38,
   "metadata": {},
   "outputs": [
    {
     "name": "stdout",
     "output_type": "stream",
     "text": [
      "visited : [100]\n",
      "stack : [66]\n",
      "visited : [100, 66]\n",
      "stack : [69]\n",
      "visited : [100, 66, 69]\n",
      "stack : [65]\n",
      "visited : [100, 66, 69, 65]\n",
      "stack : [84]\n"
     ]
    },
    {
     "data": {
      "text/plain": [
       "[100, 66, 69, 65, 84]"
      ]
     },
     "execution_count": 38,
     "metadata": {},
     "output_type": "execute_result"
    }
   ],
   "source": [
    "def 깊이우선탐색(graph, start):\n",
    "    방문 = []\n",
    "    stack = [start]\n",
    "    \n",
    "    while stack:\n",
    "        n = stack.pop()\n",
    "        if n not in 방문 :\n",
    "            방문.append(n)\n",
    "            차집합 = graph[n]-set(방문)\n",
    "            if len(차집합) == 0 :\n",
    "                방문 += stack\n",
    "                break\n",
    "            stack.append(min(차집합))\n",
    "            print(f'visited : {방문}')\n",
    "            print(f'stack : {stack}')\n",
    "            \n",
    "    return 방문\n",
    "\n",
    "깊이우선탐색(graph, 100)"
   ]
  },
  {
   "cell_type": "markdown",
   "metadata": {},
   "source": [
    "min : [100, 66, 69, 65, 84]    \n",
    "max : [100, 67, 82, 79, 87, 78]\n",
    "\n",
    "이걸로 알 수 있는 단서는 ??"
   ]
  },
  {
   "cell_type": "code",
   "execution_count": 43,
   "metadata": {},
   "outputs": [
    {
     "data": {
      "text/plain": [
       "'BEAT'"
      ]
     },
     "execution_count": 43,
     "metadata": {},
     "output_type": "execute_result"
    }
   ],
   "source": [
    "''.join([chr(i) for i in [66, 69, 65, 84]])"
   ]
  },
  {
   "cell_type": "code",
   "execution_count": 42,
   "metadata": {},
   "outputs": [
    {
     "data": {
      "text/plain": [
       "'CROWN'"
      ]
     },
     "execution_count": 42,
     "metadata": {},
     "output_type": "execute_result"
    }
   ],
   "source": [
    "''.join([chr(i) for i in [67, 82, 79, 87, 78]])"
   ]
  },
  {
   "cell_type": "code",
   "execution_count": null,
   "metadata": {},
   "outputs": [],
   "source": []
  },
  {
   "cell_type": "code",
   "execution_count": null,
   "metadata": {},
   "outputs": [],
   "source": []
  },
  {
   "cell_type": "code",
   "execution_count": null,
   "metadata": {},
   "outputs": [],
   "source": []
  },
  {
   "cell_type": "code",
   "execution_count": null,
   "metadata": {},
   "outputs": [],
   "source": []
  },
  {
   "cell_type": "code",
   "execution_count": null,
   "metadata": {},
   "outputs": [],
   "source": []
  },
  {
   "cell_type": "code",
   "execution_count": null,
   "metadata": {},
   "outputs": [],
   "source": []
  }
 ],
 "metadata": {
  "kernelspec": {
   "display_name": "Python 3",
   "language": "python",
   "name": "python3"
  },
  "language_info": {
   "codemirror_mode": {
    "name": "ipython",
    "version": 3
   },
   "file_extension": ".py",
   "mimetype": "text/x-python",
   "name": "python",
   "nbconvert_exporter": "python",
   "pygments_lexer": "ipython3",
   "version": "3.7.3"
  }
 },
 "nbformat": 4,
 "nbformat_minor": 2
}
