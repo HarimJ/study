{
 "cells": [
  {
   "cell_type": "markdown",
   "metadata": {},
   "source": [
    "## chapter 2"
   ]
  },
  {
   "cell_type": "markdown",
   "metadata": {},
   "source": [
    "!pip3 install xlsxwriter"
   ]
  },
  {
   "cell_type": "markdown",
   "metadata": {},
   "source": [
    "### Excel의 구성"
   ]
  },
  {
   "cell_type": "markdown",
   "metadata": {},
   "source": [
    "Excel에 친숙하신 분이라면 익숙하신 개념인 workbook. worksheet, Cell 등이 있습니다\n",
    "xlsxwriter는 이 개념을 그대로 사용하여 python에서 활용할 수 있도록 해줍니다"
   ]
  },
  {
   "cell_type": "markdown",
   "metadata": {},
   "source": [
    "1) Workbook\n",
    "- 하나의 Excel파일로 생각하시면 됩니다. Workbook 안에는 Worksheet를 생성이 가능합니다,또한 Excel과 같이 여러 Worksheet를 생성하여 선택하여 작업이 가능합니다.\n",
    "\n",
    "\n",
    "2) Worksheet\n",
    "- workbook에 내에 포함됩니다 , Worksheet를 생성해야 그 안에 포함되는 Cell에 값을 입력하는 등의 작업이 가능합니다.\n",
    "\n",
    "\n",
    "3) Cell\n",
    "- Worksheet에는 Column (열)과 Row(행)으로 구분이 되어있습니다. 이를 통해서 각각의 칸에 접근할 수 있는데 이단위를 Cell이라고 합니다"
   ]
  },
  {
   "cell_type": "markdown",
   "metadata": {},
   "source": [
    "### 2.2 xlsxwriter 시작하기"
   ]
  },
  {
   "cell_type": "markdown",
   "metadata": {},
   "source": [
    "Python에서 Xlsxwriter라는 라이브러리를 활용하기 위해서는 import라는 과정을 거쳐야 합니다. \n",
    "Import를 통해 Xlsxwriter를 불러오고 이를 통해서 엑셀파일을 만들어보겠습니다.\n"
   ]
  },
  {
   "cell_type": "code",
   "execution_count": 27,
   "metadata": {
    "scrolled": true
   },
   "outputs": [],
   "source": [
    "import xlsxwriter\n",
    "#워크북 xlsx 파일 생성하기\n",
    "workbook = xlsxwriter.Workbook('tutorial_2_2_1.xlsx')\n",
    "\n",
    "#워크 시트 생성하기\n",
    "worksheet = workbook.add_worksheet('First_sheet')\n",
    "\n",
    "#셀에 문자값 입력하기\n",
    "worksheet.write('A1', 'A')\n",
    "worksheet.write('B1', 'B')\n",
    "worksheet.write('C1', 'C')\n",
    "worksheet.write('D1', 'D')\n",
    "worksheet.write('E1', 'E')\n",
    "\n",
    "#셀에 숫자값 입력하기 \n",
    "worksheet.write('A2', 2)\n",
    "worksheet.write('B2', 4)\n",
    "worksheet.write('C2', 10)\n",
    "worksheet.write('D2', 14)\n",
    "worksheet.write('E2', 5)\n",
    "\n",
    "# 좌표로도 입력할 수 있습니다. (문자)\n",
    "worksheet.write(2, 0, \"a\") \n",
    "worksheet.write(2, 1, \"b\") \n",
    "worksheet.write(2, 2, \"c\") \n",
    "worksheet.write(2, 3, \"d\") \n",
    "\n",
    "# 좌표로도 입력할 수 있습니다. (숫자)\n",
    "worksheet.write(3, 0, 1) \n",
    "worksheet.write(3, 1, 2) \n",
    "worksheet.write(3, 2, 3) \n",
    "worksheet.write(3, 3, 4) \n",
    "\n",
    "workbook.close()\n"
   ]
  },
  {
   "cell_type": "markdown",
   "metadata": {},
   "source": [
    "#### 2.2.1 산술연산 "
   ]
  },
  {
   "cell_type": "code",
   "execution_count": 32,
   "metadata": {},
   "outputs": [],
   "source": [
    "import xlsxwriter\n",
    "\n",
    "workbook = xlsxwriter.Workbook('tutorial_2_2_2.xlsx')\n",
    "worksheet = workbook.add_worksheet('two_sheet')\n",
    "\n",
    "# 데이터 입력 \n",
    "\n",
    "worksheet.write('A1', 10)\n",
    "worksheet.write('B1', 5)\n",
    "\n",
    "# 산칙연산 \n",
    "\n",
    "worksheet.write('A2', '=A1+B1') # 더하기\n",
    "worksheet.write('B2', '=A1-B1') # 뺴기 \n",
    "worksheet.write('C2', '=A1*B1') # 곱하기\n",
    "worksheet.write('D2', '=A1/B1') # 나누기\n",
    "\n",
    "# 사칙연산 함수\n",
    "\n",
    "worksheet.write('A3', '=SUM(A1,B1)') # 더하기\n",
    "worksheet.write('B3', '=IMSUB(A1,B1)') # 뺴기 \n",
    "worksheet.write('C3', '=PRODUCT(A1,B1)') # 곱하기\n",
    "worksheet.write('D3', '=QUOTIENT(A1,B1)') # 나누기\n",
    " \n",
    "workbook.close()"
   ]
  },
  {
   "cell_type": "markdown",
   "metadata": {},
   "source": [
    "#### 2.2.2 비교 연산자"
   ]
  },
  {
   "cell_type": "code",
   "execution_count": 37,
   "metadata": {},
   "outputs": [],
   "source": [
    "import xlsxwriter\n",
    "\n",
    "workbook = xlsxwriter.Workbook('tutorial_2_2_3.xlsx')\n",
    "worksheet = workbook.add_worksheet()\n",
    "\n",
    "# 데이터 입력 \n",
    "\n",
    "worksheet.write('A1', 10)\n",
    "worksheet.write('B1', 5)\n",
    "# 출력결과는 True , False 로 나타냄 \n",
    "worksheet.write('A2', '=A1=B1') # =\n",
    "worksheet.write('B2', '=A1>B1') # > \n",
    "worksheet.write('C2', '=A1>=B1') # >=\n",
    "worksheet.write('D2', '=A1<B1') # <\n",
    "worksheet.write('E2', '=A1<=B1') # <=\n",
    "\n",
    "workbook.close()"
   ]
  },
  {
   "cell_type": "markdown",
   "metadata": {},
   "source": [
    "#### 2.2.3 기타 연산자"
   ]
  },
  {
   "cell_type": "markdown",
   "metadata": {},
   "source": [
    "- & : 텍스트를 연결함\n",
    "- 예) 1 & 2 = 12\n",
    "- :(콜론) : 셀사이 범위를 지정\n",
    "- 예) A1:A4 = (A1, A2, A3, A4)\n",
    "- ,(콤마) : 셀사이 범위를 결합\n",
    "- 예) A1:A4 , C1:C4 = (A1, A2, A3, A4) , (C1, C2, C3, C4)"
   ]
  },
  {
   "cell_type": "markdown",
   "metadata": {},
   "source": [
    "### 2.3 xlsxwriter 집계함수"
   ]
  },
  {
   "cell_type": "markdown",
   "metadata": {},
   "source": [
    "엑셀은 많은 데이터를 활용하는데에 주로 사용됩니다 그리고 데이터를 수식을 통해서 계산을 할 수 있습니다. "
   ]
  },
  {
   "cell_type": "markdown",
   "metadata": {},
   "source": [
    "- 합계 : SUM( )\n",
    "- 최대값/ 최소값 : MAX( ) , MIN( )\n",
    "- 평균 : AVERAGE( ) \n",
    "- 개수 : COUNT( )\n",
    "- 표준편차 : STDEV.P() 모진단의 표준편차\n",
    "-          : STDEV.S()  표본짐단의 표준편차"
   ]
  },
  {
   "cell_type": "code",
   "execution_count": 55,
   "metadata": {},
   "outputs": [],
   "source": [
    "import xlsxwriter\n",
    "#워크북 xlsx 파일 생성하기\n",
    "workbook = xlsxwriter.Workbook('tutorial_2_3_1.xlsx')\n",
    "#워크 시트 생성하기\n",
    "worksheet = workbook.add_worksheet()\n",
    "student_math_score = (\n",
    "    ['hojun', 95 ],\n",
    "    ['eunjung', 75],\n",
    "    ['subin', 98],\n",
    "    ['eunbin', 67]\n",
    ")\n",
    "row = 0\n",
    "col = 0\n",
    "for student, score in student_math_score:\n",
    "    worksheet.write(row, col, student)\n",
    "    worksheet.write(row, col + 1, score)\n",
    "    row += 1\n",
    "#형식\n",
    "bold = workbook.add_format({'bold': True})\n",
    "worksheet.write(4, 0, 'SUM', bold)\n",
    "worksheet.write(4, 1, '=SUM(B1:B4)', bold)\n",
    "worksheet.write(5, 0, 'MAX', bold)\n",
    "worksheet.write(5, 1, '=MAX(B1:B4)', bold)\n",
    "worksheet.write(6, 0, 'MIN', bold)\n",
    "worksheet.write(6, 1, '=MIN(B1:B4)', bold)\n",
    "worksheet.write(7, 0, 'AVERAGE', bold)\n",
    "worksheet.write(7, 1, '=AVERAGE(B1:B4)', bold)\n",
    "worksheet.write(8, 0, 'COUNT', bold)\n",
    "worksheet.write(8, 1, '=COUNT(B1:B4)', bold)\n",
    "\n",
    "workbook.close()"
   ]
  },
  {
   "cell_type": "markdown",
   "metadata": {},
   "source": [
    "### 2.4 write 매서드"
   ]
  },
  {
   "cell_type": "markdown",
   "metadata": {},
   "source": [
    "지금까지 워크북을 만들거나 셀에 값을 입력하면서 XlsxWriter의 Method를 이용하였습니다, Cell에 값을 입력하는 과정에서 쓰이는 것들은 Worksheet클래스에 있습니다, 자주 쓰이게 될 만한 것들을 정리해보겠습니다"
   ]
  },
  {
   "cell_type": "markdown",
   "metadata": {},
   "source": [
    "#### 1) Worksheet.write(row, col, *args)"
   ]
  },
  {
   "cell_type": "markdown",
   "metadata": {},
   "source": [
    "지금까지 많이 사용해왔던 메서드입니다, 아래와 같은 매개변수를 받으면 *args의 형식에 따라 메서드를 호출하여 처리합니다 , \n",
    "문자열의 경우에는 write_string() . 숫자의 경우에는 write_number 등입니다"
   ]
  },
  {
   "cell_type": "code",
   "execution_count": null,
   "metadata": {},
   "outputs": [],
   "source": [
    "workbook = xlsxwriter.Workbook('tutorial_2_4.1.xlsx')\n",
    "worksheet = workbook.add_worksheet()\n",
    "\n",
    "worksheet.write(0,0,'Excel')               # write_string() 호출합니다\n",
    "worksheet.write(1,0,3)                     # write_number() 호출합니다\n",
    "worksheet.write(2,0,9.5)                   # write_number() 호출합니다\n",
    "worksheet.write(3,0,'=COS(PI()/4)')        # write_formula() 호출합니다\n",
    "worksheet.write(4,0,'')                    # write_blank() 호출합니다\n",
    "worksheet.write(5,0,None)                  # write_blank() 호출합니다\n",
    "workbook.close()"
   ]
  },
  {
   "cell_type": "markdown",
   "metadata": {},
   "source": [
    "#### 2) add_format()  (책참조)"
   ]
  },
  {
   "cell_type": "markdown",
   "metadata": {},
   "source": [
    "앞의 평균점수 계산에서 bold를 줄 때 사용한 메서드입니다. 일반적으로 Write메서드의 마지막 매개변수를 넣으며 정렬, 폰트 등의 여러가지 설정을 할 수 있습니다"
   ]
  },
  {
   "cell_type": "code",
   "execution_count": null,
   "metadata": {},
   "outputs": [],
   "source": [
    "workbook = xlsxwriter.Workbook('tutorial_2_4.2.xlsx')\n",
    "worksheet = workbook.add_worksheet()\n",
    "\n",
    "cell_format = workbook.add_format({'bold' : True, 'italic': True})   # bold와 italic을 True\n",
    "worksheet.write(0,0,'Hello', cell_format)                             # cell_format형식을 적용하여 입력\n",
    "workbook.close()"
   ]
  },
  {
   "cell_type": "markdown",
   "metadata": {},
   "source": [
    "#### 3) write_formula(row, col, formula[,cell_format]) "
   ]
  },
  {
   "cell_type": "code",
   "execution_count": null,
   "metadata": {},
   "outputs": [],
   "source": [
    "workbook = xlsxwriter.Workbook('tutorial_2_4.3.xlsx')\n",
    "worksheet = workbook.add_worksheet()\n",
    "\n",
    "worksheet.write_formula(0, 1, '=A2 + A4')                   \n",
    "# A2와 A4를 합하는 수식을 0,0에 입력\n",
    "worksheet.write_formula(0, 2 ,'=SIN(PI()/4)')           \n",
    "# SIN(PI/4)의 수식을 A2에 입력\n",
    "worksheet.write_formula(0, 3 ,'=SUM(B1:B5)')                \n",
    "# B1부터 B5까지의 합하는 수식 입력\n",
    "worksheet.write_formula('A4', '=IF(A3>1,\"Yes\", \"No\")')      \n",
    "# A3가 1보다 큰지 확인하는 수식을 입력\n",
    "worksheet.write_formula('A5', '=AVERAGE(1, 2, 3, 4)')       \n",
    "# 1,2,3,4 의 평균을 구하는 수식을 입력\n",
    "worksheet.write_formula('A6', '=DATEVALUE(\"1-Jan-2013\")')   \n",
    "# 2013년 1월 1일 날짜를 입력\n",
    "\n",
    "workbook.close()"
   ]
  },
  {
   "cell_type": "markdown",
   "metadata": {},
   "source": [
    "#### 4) write_formula(row, col, datetime[, cell_format])"
   ]
  },
  {
   "cell_type": "markdown",
   "metadata": {},
   "source": [
    "날짜와 시간을 입력하는데 쓰이는 함수 입니다. 추가적으로 마지막에 format을 넣을 수 있습니다.  datetime은 날짜와 시간을 표현하는 객체로 ‘import datetime’\n",
    "을 통하여 추가해줍니다. 이를 활용하여 날짜를 입력해줍니다.\n"
   ]
  },
  {
   "cell_type": "code",
   "execution_count": null,
   "metadata": {},
   "outputs": [],
   "source": [
    "import datetime\n",
    "workbook = xlsxwriter.Workbook('tutorial_2_4.4.xlsx')\n",
    "worksheet = workbook.add_worksheet()\n",
    "\n",
    "date_time = datetime.datetime.strptime('2020-4-16', '%Y-%m-%d')   # '%Y-%m-%d’의 형식에 맞는 2013년 1월 23일의 datetime을 반환합니다.\n",
    "date_format = workbook.add_format({'num_format': 'd mmmm yyyy'})   # 날짜 월 연의 형식을 date_format에 할당합니다.\n",
    "worksheet.write_datetime(0 , 0 , date_time, date_format)         # 16 April 2020이 입력됩니다.\n",
    "\n",
    "workbook.close()"
   ]
  },
  {
   "cell_type": "code",
   "execution_count": null,
   "metadata": {},
   "outputs": [],
   "source": [
    "add_format({'num_format': 'yy/mm/dd'})                # 20.4.16\n",
    "add_format({'num_format': 'yyyy-mm-dd'})              # 2020.4.16\n",
    "add_format({'num_format': 'yy/mm/dd hh:mm'})          # 20.4.16 12:00\n",
    "add_format({'num_format': 'yyyy mmm dd'})             # 2020 Apr 16\n",
    "add_format({'num_format': 'yyyy mmm dd hh:mm AM/PM'}) # 2016 Apr 16 12:00 PM"
   ]
  }
 ],
 "metadata": {
  "kernelspec": {
   "display_name": "Python 3",
   "language": "python",
   "name": "python3"
  },
  "language_info": {
   "codemirror_mode": {
    "name": "ipython",
    "version": 3
   },
   "file_extension": ".py",
   "mimetype": "text/x-python",
   "name": "python",
   "nbconvert_exporter": "python",
   "pygments_lexer": "ipython3",
   "version": "3.7.3"
  }
 },
 "nbformat": 4,
 "nbformat_minor": 4
}
