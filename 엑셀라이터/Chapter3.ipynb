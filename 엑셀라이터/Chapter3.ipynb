{
 "cells": [
  {
   "cell_type": "markdown",
   "metadata": {},
   "source": [
    "## chapter 3"
   ]
  },
  {
   "cell_type": "markdown",
   "metadata": {},
   "source": [
    "### 3.1 text 파일 읽고 쓰기"
   ]
  },
  {
   "cell_type": "markdown",
   "metadata": {},
   "source": [
    "파일 읽고 쓰기의 기본 구조\n",
    "\n",
    "파일 객체 = open( “파일 이름” , ‘파일 열기 모드’ )\n",
    "\n",
    "파일 열기 모드는 r, w, a 모드가 있습니다. r은 읽기 모드이며 w는 쓰기 모드, a는 파일의 마지막에  내용을 추가할 때 사용하는 모드 입니다. 예제를 통해 상세히 알아보도록 하겠습니다."
   ]
  },
  {
   "cell_type": "markdown",
   "metadata": {},
   "source": [
    "#### 3.1.1 쓰기 모드"
   ]
  },
  {
   "cell_type": "code",
   "execution_count": 106,
   "metadata": {},
   "outputs": [],
   "source": [
    "file = open(\"./data/test.txt\", 'w')\n",
    "for i in range(1,6):\n",
    "    data = \"양 %d마리 \\n\" %i\n",
    "    file.write(data)\n",
    "file.close()"
   ]
  },
  {
   "cell_type": "markdown",
   "metadata": {},
   "source": [
    "주의해야 할 점은 파일을 쓰기모드로 열 경우 기존에 있던 내용이 사라진다는 것입니다. 파일이 없으  면 파이썬 파일이 있는 곳에 해당 문서를 생성합니다. “파일 이름”이 들어가는 곳에 경로명과 함게 넣어주면 해당 경로에 파일이 생성되는 것을 볼 수 있습니다."
   ]
  },
  {
   "cell_type": "markdown",
   "metadata": {},
   "source": [
    "#### 3.1.2 읽기 모드"
   ]
  },
  {
   "cell_type": "markdown",
   "metadata": {},
   "source": [
    "- 읽기 모드\n",
    "- readline()\n",
    "- readines()\n",
    "- read()"
   ]
  },
  {
   "cell_type": "code",
   "execution_count": 107,
   "metadata": {},
   "outputs": [
    {
     "name": "stdout",
     "output_type": "stream",
     "text": [
      "양 1마리 \n",
      "\n"
     ]
    }
   ],
   "source": [
    "# 읽기 모드\n",
    "# readline() - 맨 첫번째 줄만 출력\n",
    "file = open(\"./data/test.txt\", 'r')  \n",
    "line = file.readline()\n",
    "print(line)\n",
    "file.close()"
   ]
  },
  {
   "cell_type": "code",
   "execution_count": 145,
   "metadata": {},
   "outputs": [
    {
     "name": "stdout",
     "output_type": "stream",
     "text": [
      "양 1마리 \n",
      "\n",
      "양 2마리 \n",
      "\n",
      "양 3마리 \n",
      "\n",
      "양 4마리 \n",
      "\n",
      "양 5마리 \n",
      "\n",
      "소 0마리\n",
      "\n",
      "소 1마리\n",
      "\n",
      "소 2마리\n",
      "\n",
      "소 3마리\n",
      "\n",
      "소 4마리\n",
      "\n",
      "소 5마리\n",
      "\n",
      "소 6마리\n",
      "\n",
      "소 7마리\n",
      "\n",
      "소 8마리\n",
      "\n",
      "소 9마리\n",
      "\n"
     ]
    }
   ],
   "source": [
    "# readline - readline 을 사용하여 텍스트 전체 출력 \n",
    "\n",
    "file = open('./data/test.txt', 'r')\n",
    "while True:\n",
    "    line = file.readline()\n",
    "    if not line:\n",
    "        break\n",
    "    print(line)\n",
    "file.close()"
   ]
  },
  {
   "cell_type": "code",
   "execution_count": 109,
   "metadata": {},
   "outputs": [
    {
     "name": "stdout",
     "output_type": "stream",
     "text": [
      "['양 1마리 \\n', '양 2마리 \\n', '양 3마리 \\n', '양 4마리 \\n', '양 5마리 \\n']\n"
     ]
    }
   ],
   "source": [
    "# readlines() - 텍스트 전체를 출력한다 (리스트 형태로 반환)\n",
    "\n",
    "file = open('./data/test.txt', 'r')\n",
    "lines = file.readlines()\n",
    "print(lines)\n",
    "file.close()\n"
   ]
  },
  {
   "cell_type": "code",
   "execution_count": 110,
   "metadata": {},
   "outputs": [
    {
     "name": "stdout",
     "output_type": "stream",
     "text": [
      "양 1마리 \n",
      "양 2마리 \n",
      "양 3마리 \n",
      "양 4마리 \n",
      "양 5마리 \n",
      "\n"
     ]
    }
   ],
   "source": [
    "# read() - 텍스트 전체를 출력한다 \n",
    "\n",
    "file = open('./data/test.txt', 'r')\n",
    "data = file.read()\n",
    "print(data)\n",
    "file.close()"
   ]
  },
  {
   "cell_type": "markdown",
   "metadata": {},
   "source": [
    "#### 3.1.3 내용 추가하기 모드"
   ]
  },
  {
   "cell_type": "code",
   "execution_count": 111,
   "metadata": {},
   "outputs": [],
   "source": [
    "# 내용 추가하기 모드 \n",
    "\n",
    "file = open(\"./data/test.txt\", 'a')  \n",
    "for i in range(10):\n",
    "    data = \"소 %d마리\\n\" % i\n",
    "    file.write(data)\n",
    "file.close()"
   ]
  },
  {
   "cell_type": "code",
   "execution_count": 112,
   "metadata": {},
   "outputs": [
    {
     "name": "stdout",
     "output_type": "stream",
     "text": [
      "양 1마리 \n",
      "양 2마리 \n",
      "양 3마리 \n",
      "양 4마리 \n",
      "양 5마리 \n",
      "소 0마리\n",
      "소 1마리\n",
      "소 2마리\n",
      "소 3마리\n",
      "소 4마리\n",
      "소 5마리\n",
      "소 6마리\n",
      "소 7마리\n",
      "소 8마리\n",
      "소 9마리\n",
      "\n"
     ]
    }
   ],
   "source": [
    "file = open('./data/test.txt', 'r')\n",
    "data = file.read()\n",
    "print(data)\n",
    "file.close()"
   ]
  },
  {
   "cell_type": "markdown",
   "metadata": {},
   "source": [
    "### 3.2 json 파일 읽고 쓰기"
   ]
  },
  {
   "cell_type": "markdown",
   "metadata": {},
   "source": [
    "#### 3.2.1 json 이란"
   ]
  },
  {
   "cell_type": "markdown",
   "metadata": {},
   "source": [
    "JSON은 JavaScript Object Notation의 약자로서 JavaScript 문법에 영향을 받아 개발된  Lightweight한 데이타 표현 방식입니다. JSON은 데이타를 교환하는 한 포맷으로서 그 단순함과 유  연함 때문에 널리 사용되고 있습니다. 특히 JSON은 웹 브라우져와 웹서버 사이에 데이타를 교환하는  데 많이 사용됩니다.\n",
    "가장 많이 사용되는 JSON 포맷은 Key-Value Pair의 컬렉션입니다.\n",
    "\n",
    "Python은 기본적으로 JSON 표준 라이브러리(json)를 제공하고 있는데, \"import json\" 을 사용하  여 JSON 라이브러리를 사용할 수 있습니다 (주: Python 2.6 이상).\n",
    "JSON 라이브러리를 사용하면, Python 타입의 Object를 JSON 문자열로 변경할 수 있으며(JSON  인코딩), 또한 JSON 문자열을 다시 Python 타입으로 변환할 수 있습니다. (JSON 디코딩).\n"
   ]
  },
  {
   "cell_type": "code",
   "execution_count": 37,
   "metadata": {},
   "outputs": [
    {
     "name": "stdout",
     "output_type": "stream",
     "text": [
      "이호준\n"
     ]
    }
   ],
   "source": [
    "import json  # JSON\n",
    "jsonString = '{\"name\":\"이호준\", \"age\":\"32\",\"phone\": \"010-0000-0000\",\"address\": \"jeju\"}'\n",
    "\n",
    "# JSON 디코딩\n",
    "test_dict = json.loads(jsonString)\n",
    "\n",
    "# Dictionary 형태로 변환 체크  \n",
    "print(test_dict['name'])\n"
   ]
  },
  {
   "cell_type": "markdown",
   "metadata": {},
   "source": [
    "#### 3.2.2 json 인코딩"
   ]
  },
  {
   "cell_type": "markdown",
   "metadata": {},
   "source": [
    "json 인코딩 : \n",
    "Python Object (Dictionary, List, Tuple 등) 를 JSON 문자열로 변경하는 것을 JSON Encoding  이라 부릅니다. JSON 인코딩을 위해서는 우선 JSON 라이브러리를 import 한 후, json.dumps()  메서드를 써서 Python Object를 문자열로 변환하면 됩니다.\n",
    "\n",
    "예를 들어, 아래 코드는 example 이라는 Python Dictionary 객체를 JSON 문자열로 인코딩하는 예입니  다. 결과물은 JSON 표현을 갖는 문자열(str 타입)입니다."
   ]
  },
  {
   "cell_type": "code",
   "execution_count": null,
   "metadata": {},
   "outputs": [],
   "source": [
    "import json\n",
    "example = {\"name\" :\"오재원\", \"birth\":\"0711\", \"age\": \"24\"}\n",
    "example\n",
    "{'name': '오재원', 'birth': '0711', 'age': '24'}\n",
    "json. dumps(example)\n",
    "'{\"name\": \" \\\\uc624\\\\uc7ac\\\\uc6d0\", \"birth\": \"0711\", age\": \"24\"}'"
   ]
  },
  {
   "cell_type": "markdown",
   "metadata": {},
   "source": [
    "위의 코드를 실행하면 JSON 문자열이 한 줄로 길게 표현됨을 알 수 있습니다. 이렇게 축약된 JSON  문자열은 다른 컴퓨터나 네트워크 상에 보낼 때 유용하지만, 화면에 표시할 필요가 있을 경우는 읽기  가 불편합니다. JSON 문자열을 읽기 편하게 할 필요가 있을 경우에는, 아래와 같이 \"indent\" 옵션을  json.dumps() 메서드 안에 지정하면 됩니다.\n",
    "아래 코드는 Identation 이 사용된 JSON 문자열 표현입니다."
   ]
  },
  {
   "cell_type": "code",
   "execution_count": null,
   "metadata": {},
   "outputs": [],
   "source": [
    "print(json.dumps(example,indent=2))"
   ]
  },
  {
   "cell_type": "markdown",
   "metadata": {},
   "source": [
    "#### 3.2.3 json 디코딩"
   ]
  },
  {
   "cell_type": "markdown",
   "metadata": {},
   "source": [
    "JSON 문자열을 Python 타입 (Dictionary, List, Tuple 등) 으로 변경하는 것을 JSON Decoding  이라 부릅니다. JSON 디코딩은 json.loads() 메서드를 사용하여 문자열을 Python 타입으로 변경  하게 됩니다.\n",
    "아래 예제는 JSON 문자열을 Python Dictionary로 변경한 예입니다.\n"
   ]
  },
  {
   "cell_type": "code",
   "execution_count": null,
   "metadata": {},
   "outputs": [],
   "source": [
    "example2 = {\"name\" : \"이현창\", \"birth\" : \"0813\", \"age\" : \"26\"}\n",
    "df = json.dumps(example2)\n",
    "json.loads(df)"
   ]
  },
  {
   "cell_type": "code",
   "execution_count": null,
   "metadata": {},
   "outputs": [],
   "source": [
    "import xlsxwriter  \n",
    "import json\n",
    "\n",
    "workbook = xlsxwriter.Workbook('tutorial_3_2\n",
    "                               .xlsx')  \n",
    "worksheet = workbook.add_worksheet()\n",
    "\n",
    "f = open(\"json.js\", 'r')  \n",
    "jsonString = f.read()\n",
    "dictData = json.loads(jsonString)\n",
    "bold = workbook.add_format({'bold':True})  \n",
    "row = 0\n",
    "col = 0  \n",
    "while row < len(dictData):\n",
    "    worksheet.write(row, col, dictData[row]['name'])  \n",
    "    worksheet.write(row, col + 1, dictData[row]['age'])  \n",
    "    adult = '=IF(B' + str(row + 1) + '>19,\"Adult\", \"Minors\")'  \n",
    "    worksheet.write_formula(row, col + 2, adult)\n",
    "    row += 1  \n",
    "f.close()  \n",
    "workbook.close()"
   ]
  },
  {
   "cell_type": "markdown",
   "metadata": {},
   "source": [
    "### 3.3 한글(hwp) 크롤링"
   ]
  },
  {
   "cell_type": "markdown",
   "metadata": {},
   "source": [
    "#### 3.3.1 HWP읽어오기"
   ]
  },
  {
   "cell_type": "code",
   "execution_count": 60,
   "metadata": {
    "scrolled": false
   },
   "outputs": [
    {
     "name": "stdout",
     "output_type": "stream",
     "text": [
      "이  력  서\r\n",
      "\r\n",
      "<응시회사><xlsxwriter><응시직종><튜토리얼>\r\n",
      "<사진 (3cm×4cm, 최근 6개월 이내)><><인 적 사 항><성        명><홍길동><(한 자)><(영 문)><생 년 월 일><1990년  8월  13일><현   주   소><제주도><연   락   처><000-0000-0000><이   메   일><abced123@naver.com><비상연락처><000-000-0000>\r\n",
      "<학 력 사 항><재 학 기 간><학 교 명><전 공><성 적><졸업구분><소재지><(성적/만점)><.  ~  .><고등학교><><-><><><.  ~  .><대학교><과></4.5><><>\r\n",
      "<경 력 사 항><근   무   기   간><근 무 처><직  위><업 무><.  ~  .  ( 년  개월)><><><><.  ~  .  ( 년  개월)><><><><.  ~  .  ( 년  개월)><><><>\r\n",
      "<자 격 면 허><자격면허증명><시행기관><취득년월><외 국 어><종 류><수 준><><><><><상 · 중 · 하><><><><><상 · 중 · 하>\r\n",
      "<교육 / 활동 / 수상><기 간><교육, 활동 및 수상 내역><병 역 사 항><군필여부><필․미필․면제․미해당><><><군 별><><><><계 급><><><><복무기간><.  ~  .  ( 년  개월)>\r\n",
      "<보 유 기 술><내 용><활용능력><(정보통신, 그래픽 기술 등)><상, 중, 하><><><><>\r\n",
      "\r\n",
      "                                               위의 내용은 사실과 틀림없음을 확인합니다.\r\n",
      " \r\n",
      "                                                   0000년  00월  00일  성명 :   \r\n",
      "\r\n",
      "\n"
     ]
    }
   ],
   "source": [
    "# pip install olefile\n",
    "import ole\n",
    "\n",
    "with ole.open('./data/입사지원서.hwp') as f:\n",
    "    data = f.get_stream('PrvText').read().decode('utf-16le')\n",
    "print(data)"
   ]
  },
  {
   "cell_type": "markdown",
   "metadata": {},
   "source": [
    "#### 3.3.2 데이터 나누고 엑셀에 입력하기"
   ]
  },
  {
   "cell_type": "code",
   "execution_count": 65,
   "metadata": {
    "scrolled": true
   },
   "outputs": [
    {
     "data": {
      "text/plain": [
       "['이  력  서\\r\\n\\r\\n<응시회사',\n",
       " 'xlsxwriter',\n",
       " '응시직종',\n",
       " '튜토리얼>\\r\\n<사진 (3cm×4cm, 최근 6개월 이내)',\n",
       " '',\n",
       " '인 적 사 항',\n",
       " '성        명',\n",
       " '홍길동',\n",
       " '(한 자)',\n",
       " '(영 문)',\n",
       " '생 년 월 일',\n",
       " '1990년  8월  13일',\n",
       " '현   주   소',\n",
       " '제주도',\n",
       " '연   락   처',\n",
       " '000-0000-0000',\n",
       " '이   메   일',\n",
       " 'abced123@naver.com',\n",
       " '비상연락처',\n",
       " '000-000-0000>\\r\\n<학 력 사 항',\n",
       " '재 학 기 간',\n",
       " '학 교 명',\n",
       " '전 공',\n",
       " '성 적',\n",
       " '졸업구분',\n",
       " '소재지',\n",
       " '(성적/만점)',\n",
       " '.  ~  .',\n",
       " '고등학교',\n",
       " '',\n",
       " '-',\n",
       " '',\n",
       " '',\n",
       " '.  ~  .',\n",
       " '대학교',\n",
       " '과',\n",
       " '/4.5',\n",
       " '',\n",
       " '>\\r\\n<경 력 사 항',\n",
       " '근   무   기   간',\n",
       " '근 무 처',\n",
       " '직  위',\n",
       " '업 무',\n",
       " '.  ~  .  ( 년  개월)',\n",
       " '',\n",
       " '',\n",
       " '',\n",
       " '.  ~  .  ( 년  개월)',\n",
       " '',\n",
       " '',\n",
       " '',\n",
       " '.  ~  .  ( 년  개월)',\n",
       " '',\n",
       " '',\n",
       " '>\\r\\n<자 격 면 허',\n",
       " '자격면허증명',\n",
       " '시행기관',\n",
       " '취득년월',\n",
       " '외 국 어',\n",
       " '종 류',\n",
       " '수 준',\n",
       " '',\n",
       " '',\n",
       " '',\n",
       " '',\n",
       " '상 · 중 · 하',\n",
       " '',\n",
       " '',\n",
       " '',\n",
       " '',\n",
       " '상 · 중 · 하>\\r\\n<교육 / 활동 / 수상',\n",
       " '기 간',\n",
       " '교육, 활동 및 수상 내역',\n",
       " '병 역 사 항',\n",
       " '군필여부',\n",
       " '필․미필․면제․미해당',\n",
       " '',\n",
       " '',\n",
       " '군 별',\n",
       " '',\n",
       " '',\n",
       " '',\n",
       " '계 급',\n",
       " '',\n",
       " '',\n",
       " '',\n",
       " '복무기간',\n",
       " '.  ~  .  ( 년  개월)>\\r\\n<보 유 기 술',\n",
       " '내 용',\n",
       " '활용능력',\n",
       " '(정보통신, 그래픽 기술 등)',\n",
       " '상, 중, 하',\n",
       " '',\n",
       " '',\n",
       " '',\n",
       " '>\\r\\n\\r\\n                                               위의 내용은 사실과 틀림없음을 확인합니다.\\r\\n \\r\\n                                                   0000년  00월  00일  성명 :   \\r\\n\\r\\n']"
      ]
     },
     "execution_count": 65,
     "metadata": {},
     "output_type": "execute_result"
    }
   ],
   "source": [
    "# >< 기준으로 나누기 \n",
    "data_1 = data.split('><')\n",
    "data_1"
   ]
  },
  {
   "cell_type": "code",
   "execution_count": 103,
   "metadata": {
    "scrolled": true
   },
   "outputs": [
    {
     "data": {
      "text/plain": [
       "['홍길동', '1990년  8월  13일', '제주도', '000-0000-0000', 'abced123@naver.com']"
      ]
     },
     "execution_count": 103,
     "metadata": {},
     "output_type": "execute_result"
    }
   ],
   "source": [
    "# 입사지원서에서 얻고 싶은 정보만 추출 \n",
    "# 성별 , 생년월일, 현주소 , 연락처, 이메일만 추출 \n",
    "data_2 = []\n",
    "df = ['성        명','생 년 월 일','현   주   소','연   락   처', '이   메   일']\n",
    "\n",
    "for i in range(len(data_1)):\n",
    "    for j in range(len(df)):\n",
    "        if data_1[i] == df[j]:\n",
    "            data_2.append(data_1[i+1])\n",
    "data_2"
   ]
  },
  {
   "cell_type": "code",
   "execution_count": 115,
   "metadata": {},
   "outputs": [],
   "source": [
    "import xlsxwriter\n",
    "workbook = xlsxwriter.Workbook('tutorial_3_3.xlsx')\n",
    "worksheet = workbook.add_worksheet()\n",
    "\n",
    "for n,i in enumerate(df):\n",
    "    worksheet.write(n,0 ,i)\n",
    "for n,j in enumerate(data_2):\n",
    "    worksheet.write(n,1, j)\n",
    "\n",
    "workbook.close()"
   ]
  },
  {
   "cell_type": "markdown",
   "metadata": {},
   "source": [
    "### 3.4 PDF 크롤링"
   ]
  },
  {
   "cell_type": "markdown",
   "metadata": {},
   "source": [
    "#### 3.4.1 pdf 크롤링"
   ]
  },
  {
   "cell_type": "markdown",
   "metadata": {},
   "source": [
    "파이썬을 이용하여 pdf 안에 있는 내용을 수집하는 방법을 알아보겠습니다"
   ]
  },
  {
   "cell_type": "code",
   "execution_count": 152,
   "metadata": {
    "scrolled": true
   },
   "outputs": [
    {
     "data": {
      "text/plain": [
       "'이    력    서\\n\\n응시회사\\n\\nxlsxwriter\\n\\n응시직종\\n\\n튜토리얼\\n\\n성\\n\\n명\\n\\n홍길동\\n\\n(한 자)\\n\\n(영 문)\\n\\n사진\\n\\n(3cm×4cm,\\n\\n최근 6개월 이내)\\n\\n적\\n사\\n항\\n\\n생 년 월 일\\n\\n현 주 소\\n\\n연 락 처\\n\\n1990년  8월  13일\\n\\n제주도\\n\\n000-0000-0000\\n\\n이 메 일 abced123@naver.com 비상연락처\\n\\n000-000-0000\\n\\n재 학 기 간\\n\\n. ~ .\\n\\n. ~ .\\n\\n학 교 명\\n\\n고등학교\\n\\n대학교\\n\\n전 공\\n\\n과\\n\\n-\\n\\n/4.5\\n\\n성 적 졸업구분\\n\\n(성적/만점)\\n\\n소재지\\n\\n근 무 기 간\\n\\n근 무 처\\n\\n직 위\\n\\n업 무\\n\\n. ~ .\\n\\n( 년  개월)\\n\\n. ~ .\\n\\n( 년  개월)\\n\\n. ~ .\\n\\n( 년  개월)\\n\\n자격면허증명\\n\\n시행기관\\n\\n종 류\\n\\n수 준\\n\\n취득년월 외\\n국\\n어\\n\\n상 · 중 · 하\\n\\n상 · 중 · 하\\n\\n기 간\\n\\n교육, 활동 및 수상 내역\\n\\n군필여부\\n\\n․미필․면제․미해당\\n\\n병\\n역\\n사\\n항\\n\\n군 별\\n\\n계 급\\n\\n복무기간\\n\\n. ~ .\\n\\n( 년  개월)\\n\\n(정보통신, 그래픽 기술 등)\\n\\n내 용\\n\\n활용능력\\n\\n상, 중, 하\\n\\n                                               위의  내용은  사실과  틀림없음을  확인합니다.\\n\\n                                                                                                      0000년    00월    00일    성명  :     \\n\\n력\\n사\\n항\\n\\n경\\n력\\n사\\n항\\n\\n자\\n격\\n면\\n허\\n\\n교육\\n/\\n활동\\n/\\n수상\\n\\n보\\n유\\n기\\n술\\n\\n \\n\\n\\x0c'"
      ]
     },
     "execution_count": 152,
     "metadata": {},
     "output_type": "execute_result"
    }
   ],
   "source": [
    "# 출처 : https://pdfminersix.readthedocs.io/en/latest/tutorials/composable.html\n",
    "from io import StringIO\n",
    "\n",
    "from pdfminer.converter import TextConverter\n",
    "from pdfminer.layout import LAParams\n",
    "from pdfminer.pdfdocument import PDFDocument\n",
    "from pdfminer.pdfinterp import PDFResourceManager, PDFPageInterpreter\n",
    "from pdfminer.pdfpage import PDFPage\n",
    "from pdfminer.pdfparser import PDFParser\n",
    "\n",
    "output_string = StringIO()\n",
    "with open('./data/입사지원서.pdf', 'rb') as in_file:\n",
    "    parser = PDFParser(in_file)\n",
    "    doc = PDFDocument(parser)\n",
    "    rsrcmgr = PDFResourceManager()\n",
    "    device = TextConverter(rsrcmgr, output_string, laparams=LAParams())\n",
    "    interpreter = PDFPageInterpreter(rsrcmgr, device)\n",
    "    for page in PDFPage.create_pages(doc):\n",
    "        interpreter.process_page(page)\n",
    "\n",
    "output_string.getvalue()"
   ]
  },
  {
   "cell_type": "code",
   "execution_count": 155,
   "metadata": {},
   "outputs": [
    {
     "data": {
      "text/plain": [
       "['이    력    서',\n",
       " '응시회사',\n",
       " 'xlsxwriter',\n",
       " '응시직종',\n",
       " '튜토리얼',\n",
       " '성',\n",
       " '명',\n",
       " '홍길동',\n",
       " '(한 자)',\n",
       " '(영 문)',\n",
       " '사진',\n",
       " '(3cm×4cm,',\n",
       " '최근 6개월 이내)',\n",
       " '적\\n사\\n항',\n",
       " '생 년 월 일',\n",
       " '현 주 소',\n",
       " '연 락 처',\n",
       " '1990년  8월  13일',\n",
       " '제주도',\n",
       " '000-0000-0000',\n",
       " '이 메 일 abced123@naver.com 비상연락처',\n",
       " '000-000-0000',\n",
       " '재 학 기 간',\n",
       " '. ~ .',\n",
       " '. ~ .',\n",
       " '학 교 명',\n",
       " '고등학교',\n",
       " '대학교',\n",
       " '전 공',\n",
       " '과',\n",
       " '-',\n",
       " '/4.5',\n",
       " '성 적 졸업구분',\n",
       " '(성적/만점)',\n",
       " '소재지',\n",
       " '근 무 기 간',\n",
       " '근 무 처',\n",
       " '직 위',\n",
       " '업 무',\n",
       " '. ~ .',\n",
       " '( 년  개월)',\n",
       " '. ~ .',\n",
       " '( 년  개월)',\n",
       " '. ~ .',\n",
       " '( 년  개월)',\n",
       " '자격면허증명',\n",
       " '시행기관',\n",
       " '종 류',\n",
       " '수 준',\n",
       " '취득년월 외\\n국\\n어',\n",
       " '상 · 중 · 하',\n",
       " '상 · 중 · 하',\n",
       " '기 간',\n",
       " '교육, 활동 및 수상 내역',\n",
       " '군필여부',\n",
       " '․미필․면제․미해당',\n",
       " '병\\n역\\n사\\n항',\n",
       " '군 별',\n",
       " '계 급',\n",
       " '복무기간',\n",
       " '. ~ .',\n",
       " '( 년  개월)',\n",
       " '(정보통신, 그래픽 기술 등)',\n",
       " '내 용',\n",
       " '활용능력',\n",
       " '상, 중, 하',\n",
       " '                                               위의  내용은  사실과  틀림없음을  확인합니다.',\n",
       " '                                                                                                      0000년    00월    00일    성명  :     ',\n",
       " '력\\n사\\n항',\n",
       " '경\\n력\\n사\\n항',\n",
       " '자\\n격\\n면\\n허',\n",
       " '교육\\n/\\n활동\\n/\\n수상',\n",
       " '보\\n유\\n기\\n술',\n",
       " ' ',\n",
       " '\\x0c']"
      ]
     },
     "execution_count": 155,
     "metadata": {},
     "output_type": "execute_result"
    }
   ],
   "source": [
    "# \\n\\n 기준으로 나누기\n",
    "df=output_string.getvalue().split('\\n\\n')\n",
    "df"
   ]
  },
  {
   "cell_type": "code",
   "execution_count": 164,
   "metadata": {},
   "outputs": [
    {
     "data": {
      "text/plain": [
       "['홍길동', '1990년  8월  13일', '제주도', '000-0000-0000']"
      ]
     },
     "execution_count": 164,
     "metadata": {},
     "output_type": "execute_result"
    }
   ],
   "source": [
    "data = []\n",
    "target = ['명']\n",
    "target1 = ['생 년 월 일','현 주 소','연 락 처']\n",
    "\n",
    "for i in range(len(df)):\n",
    "    for j in range(len(target)):\n",
    "        if df[i] == target[j]:\n",
    "            data.append(df[i+1])\n",
    "for i in range(len(df)):\n",
    "    for j in range(len(target1)):\n",
    "        if df[i] == target1[j]:\n",
    "            data.append(df[i+3])\n",
    "            \n",
    "data"
   ]
  },
  {
   "cell_type": "code",
   "execution_count": 167,
   "metadata": {},
   "outputs": [],
   "source": [
    "import xlsxwriter\n",
    "workbook = xlsxwriter.Workbook('tutorial_3_4.xlsx')\n",
    "worksheet = workbook.add_worksheet()\n",
    "\n",
    "worksheet.write(0,0, '성명')\n",
    "for n,i in enumerate(target1):\n",
    "    worksheet.write(n+1,0 ,i)\n",
    "for n,j in enumerate(data):\n",
    "    worksheet.write(n,1, j)\n",
    "\n",
    "workbook.close()"
   ]
  }
 ],
 "metadata": {
  "kernelspec": {
   "display_name": "Python 3",
   "language": "python",
   "name": "python3"
  },
  "language_info": {
   "codemirror_mode": {
    "name": "ipython",
    "version": 3
   },
   "file_extension": ".py",
   "mimetype": "text/x-python",
   "name": "python",
   "nbconvert_exporter": "python",
   "pygments_lexer": "ipython3",
   "version": "3.7.3"
  }
 },
 "nbformat": 4,
 "nbformat_minor": 4
}
