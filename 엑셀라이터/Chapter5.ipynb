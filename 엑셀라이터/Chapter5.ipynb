{
 "cells": [
  {
   "cell_type": "markdown",
   "metadata": {},
   "source": [
    "## Chapter 5"
   ]
  },
  {
   "cell_type": "markdown",
   "metadata": {},
   "source": [
    "### 5.1 튜토리얼 image"
   ]
  },
  {
   "cell_type": "markdown",
   "metadata": {},
   "source": [
    "insert_image(행, 열, 이미지, [ 옵션 ] )를 통해 워크 시트 셀에 이미지를 삽입할 수 있습니다.\n"
   ]
  },
  {
   "cell_type": "markdown",
   "metadata": {},
   "source": [
    "insert_image() 메서드는 사전에 선택적 매개 변수를 사용하여 이미지의 위치를 지정하고 크기를 조절합니다 , 사용가능한 매개 변수의 기본값은 다음과 같습니다"
   ]
  },
  {
   "cell_type": "markdown",
   "metadata": {},
   "source": [
    "{\n",
    "-    'x_offset':        0,\n",
    "-    'y_offset':        0,\n",
    "-    'x_scale':         1,\n",
    "-    'y_scale':         1, \n",
    "-    'url':             None,\n",
    "-    'tip':             None,\n",
    "-    'image_data':      None,\n",
    "-    'positioning':     None }"
   ]
  },
  {
   "cell_type": "markdown",
   "metadata": {},
   "source": [
    "행-열 및 A1 스타일 표기법이 모두 지원됩니다. 다음은 동일합니다"
   ]
  },
  {
   "cell_type": "markdown",
   "metadata": {},
   "source": [
    "- worksheet.insert_image(1,1,'python.png')\n",
    "- worksheet.insert_image('B2','python.png')"
   ]
  },
  {
   "cell_type": "markdown",
   "metadata": {},
   "source": [
    "파일 경로는 이미지 이름으로 지정할 수 있습니다"
   ]
  },
  {
   "cell_type": "markdown",
   "metadata": {},
   "source": [
    "- worksheet.insert_image('B10','./파일 경로/python.png')\n",
    "- worksheet.insert_image('B10',r'c:./파일 경로/python.png')"
   ]
  },
  {
   "cell_type": "code",
   "execution_count": 2,
   "metadata": {},
   "outputs": [],
   "source": [
    "import xlsxwriter\n",
    "\n",
    "workbook = xlsxwriter.Workbook('tutorial_5_1.xlsx')  \n",
    "worksheet = workbook.add_worksheet()\n",
    "# 시작지점 'B2' \n",
    "# 이미지 읽기(r'./이미지위치/python.png)\n",
    "worksheet.insert_image('B2', r'./imgs/python.png')  \n",
    "workbook.close()"
   ]
  },
  {
   "cell_type": "markdown",
   "metadata": {},
   "source": [
    "### 5.2 튜토리얼 image_offset"
   ]
  },
  {
   "cell_type": "markdown",
   "metadata": {},
   "source": [
    "오프셋 값은 픽셀 단위 입니다. 오프셋은 기본 셀의 너비 또는 높이보다 클 수 있습니다. 동일한 셀을  기준으로 둘 이상의 이미지를 정렬하려는 경우 유용합니다.\n"
   ]
  },
  {
   "cell_type": "markdown",
   "metadata": {},
   "source": [
    "- worksheet1.insert_image('B2', 'python.png',{\n",
    "    'x_offset' : 15 , 'y_ooffset' : 10\n",
    "})"
   ]
  },
  {
   "cell_type": "code",
   "execution_count": 6,
   "metadata": {},
   "outputs": [],
   "source": [
    "import xlsxwriter\n",
    "\n",
    "workbook = xlsxwriter.Workbook('tutorial_5_2.xlsx')  \n",
    "worksheet = workbook.add_worksheet()\n",
    "# B2를 기준으로 x 좌표 y 좌표 만큼 이동해서 위치함 \n",
    "worksheet.insert_image('B2', r'./imgs/python.png',\n",
    "                      {'x_offset': 15, 'y_offset': 10})\n",
    "# 비교\n",
    "# worksheet.insert_image('B2', r'./imgs/python.png',\n",
    "#                       {'x_offset': 100, 'y_offset': 100})\n",
    "workbook.close()\n"
   ]
  },
  {
   "cell_type": "markdown",
   "metadata": {},
   "source": [
    "### 5.3 튜토리얼 image_scale"
   ]
  },
  {
   "cell_type": "markdown",
   "metadata": {},
   "source": [
    "x_scale 및 y_scale 파라미터는 수평 및 수직으로 이미지 크기를 조절하는데 사용될 수 있습니다"
   ]
  },
  {
   "cell_type": "markdown",
   "metadata": {},
   "source": [
    "- worksheet.insert_image('B3', 'python.png',{'x_scale': 0.5, 'y_scale': 0.5})"
   ]
  },
  {
   "cell_type": "markdown",
   "metadata": {},
   "source": [
    "url 매개 변수는 하이퍼링크/URL을 이미지에 추가하는 데 사용할 수 있습니다"
   ]
  },
  {
   "cell_type": "markdown",
   "metadata": {},
   "source": [
    "- worksheet.insert_image('B4', 'python.png',{'url' : 'https://python.org'})"
   ]
  },
  {
   "cell_type": "code",
   "execution_count": 11,
   "metadata": {},
   "outputs": [],
   "source": [
    "import xlsxwriter\n",
    "\n",
    "workbook = xlsxwriter.Workbook('tutorial_5_3.xlsx')  \n",
    "worksheet = workbook.add_worksheet()\n",
    "# B2 기준으로 img를 불러와 \n",
    "# x_offset , y_offset은 B2 = (0,0)일때 기준 -> (20,10)으로 이동해서 \n",
    "# x_scale , y_scale로 이미지 크기를 조정 \n",
    "# url을 이용해 이미지에 마우스를 가져다 놓았을때 url이 뜸 \n",
    "worksheet.insert_image('B2', r'./imgs/python.png',\n",
    "                      {'x_offset': 20, 'y_offset': 10,\n",
    "                       'x_scale': 0.5, ' y_scale': 0.5,\n",
    "                       'url' : 'http://python.org'})\n",
    "\n",
    "workbook.close()"
   ]
  },
  {
   "cell_type": "markdown",
   "metadata": {},
   "source": [
    "#### 비교하기"
   ]
  },
  {
   "cell_type": "code",
   "execution_count": 27,
   "metadata": {},
   "outputs": [],
   "source": [
    "# 한번에 비교하기 \n",
    "import xlsxwriter\n",
    "\n",
    "workbook = xlsxwriter.Workbook('image.xlsx')\n",
    "worksheet = workbook.add_worksheet()\n",
    "# image\n",
    "worksheet.write('A1', '기본이미지:')\n",
    "worksheet.insert_image('B1', './imgs/python.png')\n",
    "# offset\n",
    "worksheet.write('A10', 'offset이미지:')\n",
    "worksheet.insert_image('B10', './imgs/python.png', {'x_offset': 30, 'y_offset': 30})\n",
    "# scale\n",
    "worksheet.write('A20', 'scale이미지:')\n",
    "worksheet.insert_image('B20', './imgs/python.png', {'x_scale': 10, 'y_scale': 10})\n",
    "\n",
    "workbook.close()"
   ]
  },
  {
   "cell_type": "markdown",
   "metadata": {},
   "source": [
    "### 5.4 튜토리얼 image_data"
   ]
  },
  {
   "cell_type": "markdown",
   "metadata": {},
   "source": [
    "이 image_data 매개 변수는 io.ByteslO 형식으로 메모리 내 바이트 스트림을 추가하는 데 사용 됩  니다.\n"
   ]
  },
  {
   "cell_type": "markdown",
   "metadata": {},
   "source": [
    "- worksheet.insert_image('B5', 'python.png', {'image_data': image_data})"
   ]
  },
  {
   "cell_type": "markdown",
   "metadata": {},
   "source": [
    "이것은 일반적으로 URL에서 이미지를 삽입하는 데 사용합니다.\n"
   ]
  },
  {
   "cell_type": "markdown",
   "metadata": {},
   "source": [
    "- url = 'https://python.org/logo.png' image_data = io.io.BytesIO(urlopen(url).read())\n",
    "\n",
    "- worksheet.insert_image('B5', url,{'image_data': image_data})"
   ]
  },
  {
   "cell_type": "markdown",
   "metadata": {},
   "source": [
    "image_data 매개 변수를 사용할 때 insert_image() Excell에서 필요하기 때문에 파일 이름은 전달되댜 합니다. 앞의 예제에서 파일 이름은 URL 문자열에 추출됩니다"
   ]
  },
  {
   "cell_type": "code",
   "execution_count": 12,
   "metadata": {},
   "outputs": [],
   "source": [
    "import io\n",
    "try:\n",
    "    from urllib.request import urlopen\n",
    "except ImportError:\n",
    "    from urllib2 import urlopen\n",
    "import xlsxwriter\n",
    "workbook = xlsxwriter.Workbook('tutorial_5_4.xlsx')  \n",
    "worksheet = workbook.add_worksheet()\n",
    "# 밑에 사이트에서 이미지를 불러옴 \n",
    "url = 'https://raw.githubusercontent.com/jmcnamara/XlsxWriter/' + \\\n",
    "      'master/examples/logo.png'\n",
    "\n",
    "image_data = io.BytesIO(urlopen(url).read())\n",
    "\n",
    "worksheet.insert_image('B2', url, \n",
    "                       {'image_data': image_data})\n",
    "\n",
    "workbook.close()"
   ]
  },
  {
   "cell_type": "markdown",
   "metadata": {},
   "source": [
    "### 5.5 튜토리얼 image_positioning"
   ]
  },
  {
   "cell_type": "code",
   "execution_count": 23,
   "metadata": {},
   "outputs": [],
   "source": [
    "workbook = xlsxwriter.Workbook('tutorial_5_5.xlsx')  \n",
    "worksheet = workbook.add_worksheet()\n",
    "# 엑셀문서에 삽입된 그림에서 오른쪽 버튼 / 크기 및 속성 / 속성 / \n",
    "# 위치와 크기 변함 = (positioning : 1)\n",
    "# 변하지 않음 = (positioning : 2)\n",
    "# 위치만 변함 = (positioning : 3)\n",
    "worksheet.insert_image('B1', r'./imgs/python.png', {'positioning' : 1 })\n",
    "\n",
    "workbook.close()"
   ]
  },
  {
   "cell_type": "markdown",
   "metadata": {},
   "source": [
    "이 Positioning 매개 변수는 이미지의 오브젝트 배치를 제어하는 데 사용할 수 있습니다.  positioning에 허용되는 값은 다음과 같습니다.\n",
    "- 1. 셀로 이동하고 크기를 조절합니다. (positioning : 1)\n",
    "- 2. 이동하지만 셀 크기는 지정하지 않습니다(기본값입니다.) (positioning : 2)\n",
    "- 3. 셀과 함께 움직이거나 크기를 조절하지 않습니다.(positioning : 3)\n",
    "\n"
   ]
  }
 ],
 "metadata": {
  "kernelspec": {
   "display_name": "Python 3",
   "language": "python",
   "name": "python3"
  },
  "language_info": {
   "codemirror_mode": {
    "name": "ipython",
    "version": 3
   },
   "file_extension": ".py",
   "mimetype": "text/x-python",
   "name": "python",
   "nbconvert_exporter": "python",
   "pygments_lexer": "ipython3",
   "version": "3.7.3"
  }
 },
 "nbformat": 4,
 "nbformat_minor": 4
}
