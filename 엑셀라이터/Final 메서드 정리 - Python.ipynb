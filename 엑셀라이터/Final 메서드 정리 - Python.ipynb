{
 "cells": [
  {
   "cell_type": "markdown",
   "metadata": {},
   "source": [
    "## Built-in Functions"
   ]
  },
  {
   "cell_type": "code",
   "execution_count": 1,
   "metadata": {},
   "outputs": [
    {
     "data": {
      "text/plain": [
       "['__add__',\n",
       " '__class__',\n",
       " '__contains__',\n",
       " '__delattr__',\n",
       " '__delitem__',\n",
       " '__dir__',\n",
       " '__doc__',\n",
       " '__eq__',\n",
       " '__format__',\n",
       " '__ge__',\n",
       " '__getattribute__',\n",
       " '__getitem__',\n",
       " '__gt__',\n",
       " '__hash__',\n",
       " '__iadd__',\n",
       " '__imul__',\n",
       " '__init__',\n",
       " '__init_subclass__',\n",
       " '__iter__',\n",
       " '__le__',\n",
       " '__len__',\n",
       " '__lt__',\n",
       " '__mul__',\n",
       " '__ne__',\n",
       " '__new__',\n",
       " '__reduce__',\n",
       " '__reduce_ex__',\n",
       " '__repr__',\n",
       " '__reversed__',\n",
       " '__rmul__',\n",
       " '__setattr__',\n",
       " '__setitem__',\n",
       " '__sizeof__',\n",
       " '__str__',\n",
       " '__subclasshook__',\n",
       " 'append',\n",
       " 'clear',\n",
       " 'copy',\n",
       " 'count',\n",
       " 'extend',\n",
       " 'index',\n",
       " 'insert',\n",
       " 'pop',\n",
       " 'remove',\n",
       " 'reverse',\n",
       " 'sort']"
      ]
     },
     "execution_count": 1,
     "metadata": {},
     "output_type": "execute_result"
    }
   ],
   "source": [
    "dir([1, 2, 3, 4])"
   ]
  },
  {
   "cell_type": "code",
   "execution_count": 2,
   "metadata": {},
   "outputs": [
    {
     "data": {
      "text/plain": [
       "'10,000,000,000'"
      ]
     },
     "execution_count": 2,
     "metadata": {},
     "output_type": "execute_result"
    }
   ],
   "source": [
    "format(10000000000, ',')"
   ]
  },
  {
   "cell_type": "code",
   "execution_count": 5,
   "metadata": {},
   "outputs": [
    {
     "data": {
      "text/plain": [
       "'1.000000e+10'"
      ]
     },
     "execution_count": 5,
     "metadata": {},
     "output_type": "execute_result"
    }
   ],
   "source": [
    "format(10000000000, 'e')"
   ]
  },
  {
   "cell_type": "code",
   "execution_count": 4,
   "metadata": {},
   "outputs": [
    {
     "data": {
      "text/plain": [
       "'2540be400'"
      ]
     },
     "execution_count": 4,
     "metadata": {},
     "output_type": "execute_result"
    }
   ],
   "source": [
    "format(10000000000, 'x')"
   ]
  },
  {
   "cell_type": "code",
   "execution_count": 8,
   "metadata": {},
   "outputs": [
    {
     "data": {
      "text/plain": [
       "'00000000100,000.0000'"
      ]
     },
     "execution_count": 8,
     "metadata": {},
     "output_type": "execute_result"
    }
   ],
   "source": [
    "format(100000, '0>020,.4f') \n",
    "# 0 으로 채울건데, 20자리에 맞춰서, 그리고 , 는 찍어주고 소수점은 4자리까지 만들어라\n",
    "# 0으로 채울때는 시간을 출력할 때 편리"
   ]
  },
  {
   "cell_type": "code",
   "execution_count": 14,
   "metadata": {},
   "outputs": [
    {
     "data": {
      "text/plain": [
       "[0, 2, 4, 6, 8, 10, 12, 14, 16, 18]"
      ]
     },
     "execution_count": 14,
     "metadata": {},
     "output_type": "execute_result"
    }
   ],
   "source": [
    "# function 만들기\n",
    "def hojun(value):\n",
    "    if value % 2 == 0:   # 2로 나눌때 나누어 떨어지면 True 출력\n",
    "        return True    # true 값만 출력하는거니까 0도 출력이 된다. \n",
    "    else:\n",
    "        return False\n",
    "    \n",
    "list(filter(hojun, range(20)))   # 꼭 앞에 list를 해줘야 주소값을 주는게 아니라 그 주소값의 값을 출력한다"
   ]
  },
  {
   "cell_type": "code",
   "execution_count": 12,
   "metadata": {},
   "outputs": [
    {
     "data": {
      "text/plain": [
       "[0, 2, 4, 6, 8, 10, 12, 14, 16, 18]"
      ]
     },
     "execution_count": 12,
     "metadata": {},
     "output_type": "execute_result"
    }
   ],
   "source": [
    "# 다른 방법\n",
    "list(filter(lambda x: x % 2 == 0, range(20)))   # x가 2로 나누어 떨어질때 True/False로  => 그럼 true 값만 출력"
   ]
  },
  {
   "cell_type": "code",
   "execution_count": 15,
   "metadata": {},
   "outputs": [
    {
     "data": {
      "text/plain": [
       "[0, 2, 4, 6, 8, 10, 12, 14, 16, 18]"
      ]
     },
     "execution_count": 15,
     "metadata": {},
     "output_type": "execute_result"
    }
   ],
   "source": [
    "# 다른방법\n",
    "[i for i in range(20) if i % 2 == 0]"
   ]
  },
  {
   "cell_type": "code",
   "execution_count": 16,
   "metadata": {},
   "outputs": [
    {
     "data": {
      "text/plain": [
       "4"
      ]
     },
     "execution_count": 16,
     "metadata": {},
     "output_type": "execute_result"
    }
   ],
   "source": [
    "# len : 길이를 반환하는데, 길이를 반환할때 index의 마지막 값(4)는 아니라는것! 명심\n",
    "# 그래서 length는 인덱스 값의 +1 한 값이다\n",
    "# 그래서 for문을 돌때는 보통 len 에 -1를 해주는 알고리즘이 많다! \n",
    "\n",
    "len([1, 2, 3, 4])"
   ]
  },
  {
   "cell_type": "code",
   "execution_count": 19,
   "metadata": {},
   "outputs": [
    {
     "data": {
      "text/plain": [
       "[0,\n",
       " 1,\n",
       " 4,\n",
       " 9,\n",
       " 16,\n",
       " 25,\n",
       " 36,\n",
       " 49,\n",
       " 64,\n",
       " 81,\n",
       " 100,\n",
       " 121,\n",
       " 144,\n",
       " 169,\n",
       " 196,\n",
       " 225,\n",
       " 256,\n",
       " 289,\n",
       " 324,\n",
       " 361]"
      ]
     },
     "execution_count": 19,
     "metadata": {},
     "output_type": "execute_result"
    }
   ],
   "source": [
    "# map & zip\n",
    "\n",
    "# map은 function 먼저, 그리고  value가 뒤\n",
    "\n",
    "\n",
    "list(map(hojun, range(20)))  # 결과값을 출력 => true/ false 만   (단, filter? 는 그 값을 출력)\n",
    "\n",
    "list(map(lambda x: x % 2 == 0, range(20)))\n",
    "\n",
    "list(map(lambda x: x**2, range(20)))  # 값으로 출력\n",
    "\n",
    "list(map(lambda x: x**2, range(20)))"
   ]
  },
  {
   "cell_type": "code",
   "execution_count": 22,
   "metadata": {},
   "outputs": [
    {
     "data": {
      "text/plain": [
       "[('a', 1, 10, 'A'), ('b', 2, 20, 'B'), ('c', 3, 30, 'C'), ('d', 4, 40, 'D')]"
      ]
     },
     "execution_count": 22,
     "metadata": {},
     "output_type": "execute_result"
    }
   ],
   "source": [
    "# array들을 연결\n",
    "list(zip(['a', 'b', 'c', 'd'], [1, 2, 3, 4], [10, 20, 30, 40], 'ABCD'))"
   ]
  },
  {
   "cell_type": "code",
   "execution_count": 23,
   "metadata": {},
   "outputs": [
    {
     "data": {
      "text/plain": [
       "1"
      ]
     },
     "execution_count": 23,
     "metadata": {},
     "output_type": "execute_result"
    }
   ],
   "source": [
    "max([1, 2, 3, 4])\n",
    "min([1, 2, 3, 4])"
   ]
  },
  {
   "cell_type": "code",
   "execution_count": null,
   "metadata": {},
   "outputs": [],
   "source": [
    "# reversed() : 역순!! (역정렬이 아니다)\n",
    "sorted()  # <- 얘가 중요\n",
    "\n",
    "\n",
    "# sorted()   vs   sort()  : sort()는 리스트를 직접 만진다. sorted()는 직접 만지지 않는다(return 값만 정렬)"
   ]
  },
  {
   "cell_type": "code",
   "execution_count": 24,
   "metadata": {},
   "outputs": [
    {
     "data": {
      "text/plain": [
       "[3, 4, 5, 6, 7, 10]"
      ]
     },
     "execution_count": 24,
     "metadata": {},
     "output_type": "execute_result"
    }
   ],
   "source": [
    "l = [10, 5, 4, 3, 7, 6]\n",
    "l.sort()   \n",
    "l"
   ]
  },
  {
   "cell_type": "code",
   "execution_count": 32,
   "metadata": {},
   "outputs": [
    {
     "data": {
      "text/plain": [
       "[('a', 1), ('e', 3), ('f', 4), ('n', 2), ('v', 5)]"
      ]
     },
     "execution_count": 32,
     "metadata": {},
     "output_type": "execute_result"
    }
   ],
   "source": [
    "testCaseOne = ['abc', 'def', 'hello world', 'hello', 'python']\n",
    "testCaseTwo = 'Life is too short, You need python'.split()   # <- 이것 자체가 리스트라서 [] 안해도 됨\n",
    "testCaseThree = list(zip('anvfe', [1, 2, 5, 4, 3]))\n",
    "\n",
    "sorted(testCaseOne, key=len, reverse=True)  # 반대정렬\n",
    "sorted(testCaseTwo, key=str.lower)         # 알파벳순\n",
    "sorted(testCaseThree, key=lambda x:x[1])  # key 값을 lambda로 줄 수 도 있다   # 1번째 값으로 정렬\n",
    "sorted(testCaseThree, key=lambda x:x[0])  # 0번째 값으로 정렬\n",
    "\n",
    "\n",
    "# 리스트 안에 튜플 정렬  => 딕셔너리 정렬 할때 필요!!\n"
   ]
  },
  {
   "cell_type": "code",
   "execution_count": 34,
   "metadata": {},
   "outputs": [
    {
     "data": {
      "text/plain": [
       "False"
      ]
     },
     "execution_count": 34,
     "metadata": {},
     "output_type": "execute_result"
    }
   ],
   "source": [
    "# in syntex\n",
    "5 not in [1, 2, 3, 4, 5]"
   ]
  },
  {
   "cell_type": "code",
   "execution_count": 35,
   "metadata": {},
   "outputs": [],
   "source": [
    "l = [1, 2, 3, 4, 5]"
   ]
  },
  {
   "cell_type": "code",
   "execution_count": 38,
   "metadata": {},
   "outputs": [
    {
     "data": {
      "text/plain": [
       "[1, 2, 3, 4, 5]"
      ]
     },
     "execution_count": 38,
     "metadata": {},
     "output_type": "execute_result"
    }
   ],
   "source": [
    "dir(l)\n",
    "# 'append' : 하나의 요소를 추가\n",
    "# 'clear'  : 다 없애기\n",
    "# 'copy' :  리스트를 function으로 넘길때, 그 fucntion을 만지지 못하게 할때 복사한다\n",
    "# 'count'  : 셀때\n",
    "# 'extend' : 늘릴때\n",
    "# 'index' : 찾을때 \n",
    "# 'insert' : 해당 자리에 값을 넣을때\n",
    "# 'pop' : 뒤에것을 뺄때\n",
    "# 'remove'  : (del 이 더 좋음)\n",
    "# 'reverse'\n",
    "# 'sort'\n",
    "def listChange(x):  # 안에서 변합 값을 밖에서 못만지게 할때 ? copy\n",
    "    x[0] = 1000\n",
    "\n",
    "l = [1, 2, 3, 4, 5]\n",
    "listChange(l.copy())\n",
    "l"
   ]
  },
  {
   "cell_type": "code",
   "execution_count": null,
   "metadata": {},
   "outputs": [],
   "source": [
    "#큐\n",
    "# 큐일때 pop(0)\n",
    "\n",
    "l = []\n",
    "\n",
    "l.append(10)\n",
    "l.append(20)\n",
    "l.append(30)\n",
    "l.pop(0)   # 가장 먼저 들어온게 가장 먼제 나간다\n",
    "l.append()"
   ]
  },
  {
   "cell_type": "code",
   "execution_count": null,
   "metadata": {},
   "outputs": [],
   "source": [
    "#스택\n",
    "# 스택은 pop() # 가장 늦게 들어온 자료가 가장 먼저 나간다\n",
    "\n",
    "l = []\n",
    "\n",
    "l.append(10)\n",
    "l.append(20)\n",
    "l.append(30)\n",
    "l.pop()\n",
    "l.append()"
   ]
  },
  {
   "cell_type": "code",
   "execution_count": 39,
   "metadata": {},
   "outputs": [
    {
     "data": {
      "text/plain": [
       "['__add__',\n",
       " '__class__',\n",
       " '__contains__',\n",
       " '__delattr__',\n",
       " '__dir__',\n",
       " '__doc__',\n",
       " '__eq__',\n",
       " '__format__',\n",
       " '__ge__',\n",
       " '__getattribute__',\n",
       " '__getitem__',\n",
       " '__getnewargs__',\n",
       " '__gt__',\n",
       " '__hash__',\n",
       " '__init__',\n",
       " '__init_subclass__',\n",
       " '__iter__',\n",
       " '__le__',\n",
       " '__len__',\n",
       " '__lt__',\n",
       " '__mul__',\n",
       " '__ne__',\n",
       " '__new__',\n",
       " '__reduce__',\n",
       " '__reduce_ex__',\n",
       " '__repr__',\n",
       " '__rmul__',\n",
       " '__setattr__',\n",
       " '__sizeof__',\n",
       " '__str__',\n",
       " '__subclasshook__',\n",
       " 'count',\n",
       " 'index']"
      ]
     },
     "execution_count": 39,
     "metadata": {},
     "output_type": "execute_result"
    }
   ],
   "source": [
    "t = (1, 2, 3)\n",
    "dir(t)"
   ]
  },
  {
   "cell_type": "code",
   "execution_count": 43,
   "metadata": {},
   "outputs": [
    {
     "data": {
      "text/plain": [
       "dict_items([('one', '하나'), ('two', '둘')])"
      ]
     },
     "execution_count": 43,
     "metadata": {},
     "output_type": "execute_result"
    }
   ],
   "source": [
    "# dictionary\n",
    "\n",
    "d = {'one':'하나', 'two':'둘'}\n",
    "dir(d)\n",
    "\n",
    "# 'clear',\n",
    "# 'copy',\n",
    "# 'fromkeys',\n",
    "# 'get',\n",
    "# 'items',\n",
    "# 'keys',\n",
    "# 'pop',\n",
    "# 'popitem',\n",
    "# 'setdefault',\n",
    "# 'update',\n",
    "# 'values'\n",
    "\n",
    "\n",
    "# 자주 쓰는 것. \n",
    "d.keys()  # 키만 뽑아라\n",
    "d.values()  # 벨류만 봅아라\n",
    "d.items()  # 둘다 뽑는데 리스트와 튜플? 로 뽑아라  ( zip에서 했던 형식 )"
   ]
  },
  {
   "cell_type": "code",
   "execution_count": 44,
   "metadata": {},
   "outputs": [
    {
     "data": {
      "text/plain": [
       "{'two': '둘'}"
      ]
     },
     "execution_count": 44,
     "metadata": {},
     "output_type": "execute_result"
    }
   ],
   "source": [
    "del d['one']   # del은 key 기준으로 제거한다\n",
    "d"
   ]
  },
  {
   "cell_type": "code",
   "execution_count": 45,
   "metadata": {},
   "outputs": [
    {
     "data": {
      "text/plain": [
       "{'two': '둘', 'one': '하나'}"
      ]
     },
     "execution_count": 45,
     "metadata": {},
     "output_type": "execute_result"
    }
   ],
   "source": [
    "d['one'] = '하나' # 데이터 입력할때\n",
    "d"
   ]
  },
  {
   "cell_type": "code",
   "execution_count": 46,
   "metadata": {},
   "outputs": [
    {
     "data": {
      "text/plain": [
       "{'1', '2', '3', '4', '5', '6'}"
      ]
     },
     "execution_count": 46,
     "metadata": {},
     "output_type": "execute_result"
    }
   ],
   "source": [
    "s = set('11122345666')  # set은 중복 제거로 많이 사용한다. (단, 순서가 없으니까 순회할때는 조심할것)\n",
    "s"
   ]
  },
  {
   "cell_type": "code",
   "execution_count": 50,
   "metadata": {},
   "outputs": [
    {
     "data": {
      "text/plain": [
       "True"
      ]
     },
     "execution_count": 50,
     "metadata": {},
     "output_type": "execute_result"
    }
   ],
   "source": [
    "dir(s)\n",
    "\n",
    "# 'add', : 추가\n",
    "# 'clear',\n",
    "# 'copy',\n",
    "# 'difference', : 차집합 집합하나.difference(집합둘) : 집합하나에서 집합둘을 뺀다\n",
    "# 'difference_update',\n",
    "# 'discard',  : 삭제\n",
    "# 'intersection',\n",
    "# 'intersection_update',\n",
    "# 'isdisjoint',\n",
    "# 'issubset',\n",
    "# 'issuperset',\n",
    "# 'pop',\n",
    "# 'remove', : 제거\n",
    "# 'symmetric_difference',\n",
    "# 'symmetric_difference_update',\n",
    "# 'union', : 합집합\n",
    "# 'update', : 한꺼번에 많은 데이터를 추가\n",
    "\n",
    "s.add(7)\n",
    "s.discard(7)\n",
    "'1' in s  # 요소가 있는지 확인 "
   ]
  },
  {
   "cell_type": "code",
   "execution_count": null,
   "metadata": {},
   "outputs": [],
   "source": []
  },
  {
   "cell_type": "code",
   "execution_count": null,
   "metadata": {},
   "outputs": [],
   "source": []
  },
  {
   "cell_type": "code",
   "execution_count": null,
   "metadata": {},
   "outputs": [],
   "source": []
  },
  {
   "cell_type": "code",
   "execution_count": null,
   "metadata": {},
   "outputs": [],
   "source": []
  }
 ],
 "metadata": {
  "kernelspec": {
   "display_name": "Python 3",
   "language": "python",
   "name": "python3"
  },
  "language_info": {
   "codemirror_mode": {
    "name": "ipython",
    "version": 3
   },
   "file_extension": ".py",
   "mimetype": "text/x-python",
   "name": "python",
   "nbconvert_exporter": "python",
   "pygments_lexer": "ipython3",
   "version": "3.7.1"
  }
 },
 "nbformat": 4,
 "nbformat_minor": 2
}
