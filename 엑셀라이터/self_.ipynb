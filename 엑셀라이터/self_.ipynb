{
 "cells": [
  {
   "cell_type": "code",
   "execution_count": 2,
   "metadata": {},
   "outputs": [
    {
     "data": {
      "text/plain": [
       "['이  력  서\\r\\n<인적사항',\n",
       " '성          명',\n",
       " '홍길동',\n",
       " '생  년  월  일',\n",
       " '1993년 8월 13일',\n",
       " '현    주    소',\n",
       " '제주특별자치도 제주시',\n",
       " '연    락    처',\n",
       " '010-2233-1478',\n",
       " '이    메    일',\n",
       " 'ab8ab@naver.com>\\r\\n\\r\\n<학력사항',\n",
       " '학교명',\n",
       " '전공',\n",
       " '성적',\n",
       " '졸업구분',\n",
       " '소재지',\n",
       " '건국대학교',\n",
       " '컴퓨터공학과',\n",
       " '4.1/4.5',\n",
       " '졸업',\n",
       " '서울>\\r\\n\\r\\n<자격면허',\n",
       " '자격면허증명',\n",
       " '시행기관',\n",
       " '취득년월',\n",
       " 'TOEIC',\n",
       " '점수',\n",
       " '정보처리기사',\n",
       " '한국산업인력공단',\n",
       " '19.05.22',\n",
       " '725점',\n",
       " '한국사능력검정 1급',\n",
       " '국사편찬위원회',\n",
       " '19.08.23>\\r\\n\\r\\n<교육 / 활동 / 수상',\n",
       " '기간',\n",
       " '활동 내용',\n",
       " '병역사항',\n",
       " '군필여부',\n",
       " '군필',\n",
       " '19.11 ~ 20.03',\n",
       " '빅데이터 전략 마에스트로',\n",
       " '군별',\n",
       " '육군',\n",
       " '',\n",
       " '',\n",
       " '계급',\n",
       " '병장',\n",
       " '',\n",
       " '',\n",
       " '복무기간',\n",
       " '15.02~16.11>\\r\\n\\r\\n<컴퓨터 언어   능력 (상/중/하)',\n",
       " 'R',\n",
       " 'Python',\n",
       " 'Javascript',\n",
       " 'SQL',\n",
       " 'HTML/CSS',\n",
       " '상',\n",
       " '중',\n",
       " '중',\n",
       " '하',\n",
       " '하>\\r\\n\\r\\n위의 내용은 사실과 틀림없음을 확인합니다.\\r\\n\\r\\n2020년 5월 11일 성명 : 홍길동\\r\\n']"
      ]
     },
     "execution_count": 2,
     "metadata": {},
     "output_type": "execute_result"
    }
   ],
   "source": [
    "# 내 데이터 확인하기\n",
    "import ole\n",
    "\n",
    "with ole.open('./data/이력서_1.hwp') as f:\n",
    "    data = f.get_stream('PrvText').read().decode('utf-16le')\n",
    "    data = data.split('><')\n",
    "data"
   ]
  },
  {
   "cell_type": "code",
   "execution_count": null,
   "metadata": {},
   "outputs": [],
   "source": [
    "def resume(data):\n",
    "    data = data.split('><')\n",
    "    out_data = []\n",
    "    df = ['성          명' , '생  년  월  일', '현    주    소', '연    락    처','이    메    일']\n",
    "    for i in range(len(data)):\n",
    "        for j in range(len(df)):\n",
    "            if data[i] == '이    메    일':\n",
    "                a = data[i+1].find('>')  # 이메일과 같으면 그 다음 데이터에서 > 전까지만\n",
    "                out_data.append(data[i+1][:a])  # out_data 안에 넣기\n",
    "                break\n",
    "            if data[i] == df[j]:\n",
    "                out_data.append(data[i+1])\n",
    "    df1 = ['학교명','전공','성적','졸업구분','소재지']\n",
    "    for i in range(len(data)):\n",
    "        for j in range(len(df1)):\n",
    "            if data[i] == '성적':\n",
    "                if data[i+5] != '':\n",
    "                    score = data[i+5]\n",
    "                    score = score.replace('/4.5','')\n",
    "                    score = float(score)\n",
    "                    if score >= 4.3:\n",
    "                        out_data.append(10)\n",
    "                        break\n",
    "                    elif 4.3 > score >= 4.1:\n",
    "                        out_data.append(8)\n",
    "                        break\n",
    "                    elif 4.1 > score >=3.9:\n",
    "                        out_data.append(6)\n",
    "                        break\n",
    "                    else:\n",
    "                        out_data.append(4)\n",
    "                        break\n",
    "                else:\n",
    "                     break"
   ]
  },
  {
   "cell_type": "code",
   "execution_count": null,
   "metadata": {},
   "outputs": [],
   "source": []
  },
  {
   "cell_type": "code",
   "execution_count": null,
   "metadata": {},
   "outputs": [],
   "source": []
  },
  {
   "cell_type": "code",
   "execution_count": null,
   "metadata": {},
   "outputs": [],
   "source": []
  },
  {
   "cell_type": "code",
   "execution_count": null,
   "metadata": {},
   "outputs": [],
   "source": []
  },
  {
   "cell_type": "code",
   "execution_count": null,
   "metadata": {},
   "outputs": [],
   "source": []
  },
  {
   "cell_type": "code",
   "execution_count": null,
   "metadata": {},
   "outputs": [],
   "source": []
  },
  {
   "cell_type": "code",
   "execution_count": null,
   "metadata": {},
   "outputs": [],
   "source": []
  },
  {
   "cell_type": "code",
   "execution_count": null,
   "metadata": {},
   "outputs": [],
   "source": []
  },
  {
   "cell_type": "code",
   "execution_count": null,
   "metadata": {},
   "outputs": [],
   "source": []
  },
  {
   "cell_type": "code",
   "execution_count": null,
   "metadata": {},
   "outputs": [],
   "source": []
  },
  {
   "cell_type": "code",
   "execution_count": null,
   "metadata": {},
   "outputs": [],
   "source": []
  },
  {
   "cell_type": "code",
   "execution_count": null,
   "metadata": {},
   "outputs": [],
   "source": []
  },
  {
   "cell_type": "code",
   "execution_count": null,
   "metadata": {},
   "outputs": [],
   "source": []
  },
  {
   "cell_type": "code",
   "execution_count": null,
   "metadata": {},
   "outputs": [],
   "source": []
  },
  {
   "cell_type": "code",
   "execution_count": null,
   "metadata": {},
   "outputs": [],
   "source": []
  },
  {
   "cell_type": "code",
   "execution_count": null,
   "metadata": {},
   "outputs": [],
   "source": []
  },
  {
   "cell_type": "code",
   "execution_count": null,
   "metadata": {},
   "outputs": [],
   "source": []
  },
  {
   "cell_type": "code",
   "execution_count": null,
   "metadata": {},
   "outputs": [],
   "source": []
  },
  {
   "cell_type": "code",
   "execution_count": null,
   "metadata": {},
   "outputs": [],
   "source": []
  },
  {
   "cell_type": "code",
   "execution_count": null,
   "metadata": {},
   "outputs": [],
   "source": []
  },
  {
   "cell_type": "code",
   "execution_count": null,
   "metadata": {},
   "outputs": [],
   "source": []
  },
  {
   "cell_type": "code",
   "execution_count": null,
   "metadata": {},
   "outputs": [],
   "source": []
  },
  {
   "cell_type": "code",
   "execution_count": null,
   "metadata": {},
   "outputs": [],
   "source": []
  },
  {
   "cell_type": "code",
   "execution_count": null,
   "metadata": {},
   "outputs": [],
   "source": []
  },
  {
   "cell_type": "code",
   "execution_count": null,
   "metadata": {},
   "outputs": [],
   "source": []
  }
 ],
 "metadata": {
  "kernelspec": {
   "display_name": "Python 3",
   "language": "python",
   "name": "python3"
  },
  "language_info": {
   "codemirror_mode": {
    "name": "ipython",
    "version": 3
   },
   "file_extension": ".py",
   "mimetype": "text/x-python",
   "name": "python",
   "nbconvert_exporter": "python",
   "pygments_lexer": "ipython3",
   "version": "3.7.1"
  }
 },
 "nbformat": 4,
 "nbformat_minor": 2
}
