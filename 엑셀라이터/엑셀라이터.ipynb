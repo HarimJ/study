{
 "cells": [
  {
   "cell_type": "code",
   "execution_count": 3,
   "metadata": {},
   "outputs": [
    {
     "name": "stdout",
     "output_type": "stream",
     "text": [
      "[1, 2, 3, 4, 5]\n",
      "[]\n"
     ]
    }
   ],
   "source": [
    "x = [1, 2, 3, 4, 5]\n",
    "print(x)\n",
    "x.clear()\n",
    "print(x)"
   ]
  },
  {
   "cell_type": "markdown",
   "metadata": {},
   "source": [
    "# 한글 파일 가져오기"
   ]
  },
  {
   "cell_type": "code",
   "execution_count": 1,
   "metadata": {},
   "outputs": [],
   "source": [
    "import xlsxwriter"
   ]
  },
  {
   "cell_type": "code",
   "execution_count": 2,
   "metadata": {},
   "outputs": [
    {
     "name": "stdout",
     "output_type": "stream",
     "text": [
      "Requirement already satisfied: olefile in c:\\programdata\\anaconda3\\lib\\site-packages (0.46)\n"
     ]
    }
   ],
   "source": [
    "!pip install olefile"
   ]
  },
  {
   "cell_type": "code",
   "execution_count": 3,
   "metadata": {},
   "outputs": [
    {
     "name": "stdout",
     "output_type": "stream",
     "text": [
      "Collecting ole-py\n",
      "  Downloading https://files.pythonhosted.org/packages/fa/a5/46b173d3518e7702c07da1d1c4766b9019a381a94c672cdd1875603f38da/ole_py-1.1.2-py3-none-any.whl\n",
      "Installing collected packages: ole-py\n",
      "Successfully installed ole-py-1.1.2\n"
     ]
    }
   ],
   "source": [
    "!pip install ole-py"
   ]
  },
  {
   "cell_type": "code",
   "execution_count": 4,
   "metadata": {},
   "outputs": [
    {
     "name": "stdout",
     "output_type": "stream",
     "text": [
      "('FileHeader', 'DocInfo', '\\x05HwpSummaryInformation', 'PrvImage', 'PrvText', 'Scripts/JScriptVersion', 'Scripts/DefaultJScript', 'DocOptions/_LinkDoc', 'BodyText/Section0')\n",
      "이  력  서\r\n",
      "\r\n",
      "<응시회사><xlsxwriter><응시직종><튜토리얼>\r\n",
      "<사진 (3cm×4cm, 최근 6개월 이내)><><인 적 사 항><성        명><홍길동><(한 자)><(영 문)><생 년 월 일><1990년  8월  13일><현   주   소><제주도><연   락   처><000-0000-0000><이   메   일><abced123@naver.com><비상연락처><000-000-0000>\r\n",
      "<학 력 사 항><재 학 기 간><학 교 명><전 공><성 적><졸업구분><소재지><(성적/만점)><.  ~  .><고등학교><><-><><><.  ~  .><대학교><과></4.5><><>\r\n",
      "<경 력 사 항><근   무   기   간><근 무 처><직  위><업 무><.  ~  .  ( 년  개월)><><><><.  ~  .  ( 년  개월)><><><><.  ~  .  ( 년  개월)><><><>\r\n",
      "<자 격 면 허><자격면허증명><시행기관><취득년월><외 국 어><종 류><수 준><><><><><상 · 중 · 하><><><><><상 · 중 · 하>\r\n",
      "<교육 / 활동 / 수상><기 간><교육, 활동 및 수상 내역><병 역 사 항><군필여부><필․미필․면제․미해당><><><군 별><><><><계 급><><><><복무기간><.  ~  .  ( 년  개월)>\r\n",
      "<보 유 기 술><내 용><활용능력><(정보통신, 그래픽 기술 등)><상, 중, 하><><><><>\r\n",
      "\r\n",
      "                                               위의 내용은 사실과 틀림없음을 확인합니다.\r\n",
      " \r\n",
      "                                                   0000년  00월  00일  성명 :   \r\n",
      "\r\n",
      "\n"
     ]
    }
   ],
   "source": [
    "import ole\n",
    "\n",
    "with ole.open('입사지원서.hwp') as f:\n",
    "    print(f.list_streams())   # file header 정보\n",
    "    print(f.get_stream('PrvText').read().decode('utf-16le'))  # text형식, utf-16으로 읽음\n",
    "    \n",
    "# 그럼 >< 꺽새모양으로 나눠진다"
   ]
  },
  {
   "cell_type": "code",
   "execution_count": 5,
   "metadata": {},
   "outputs": [],
   "source": [
    "with ole.open('입사지원서.hwp') as f:\n",
    "    data = (f.get_stream('PrvText').read().decode('utf-16le')) \n",
    "    \n",
    "splitData = data.split('><')  # 꺽새 기준으로 나누기"
   ]
  },
  {
   "cell_type": "code",
   "execution_count": 9,
   "metadata": {
    "scrolled": true
   },
   "outputs": [
    {
     "data": {
      "text/plain": [
       "['이  력  서\\r\\n\\r\\n<응시회사',\n",
       " 'xlsxwriter',\n",
       " '응시직종',\n",
       " '튜토리얼>\\r\\n<사진 (3cm×4cm, 최근 6개월 이내)',\n",
       " '',\n",
       " '인 적 사 항',\n",
       " '성        명',\n",
       " '홍길동',\n",
       " '(한 자)',\n",
       " '(영 문)',\n",
       " '생 년 월 일',\n",
       " '1990년  8월  13일',\n",
       " '현   주   소',\n",
       " '제주도',\n",
       " '연   락   처',\n",
       " '000-0000-0000',\n",
       " '이   메   일',\n",
       " 'abced123@naver.com',\n",
       " '비상연락처',\n",
       " '000-000-0000>\\r\\n<학 력 사 항',\n",
       " '재 학 기 간',\n",
       " '학 교 명',\n",
       " '전 공',\n",
       " '성 적',\n",
       " '졸업구분',\n",
       " '소재지',\n",
       " '(성적/만점)',\n",
       " '.  ~  .',\n",
       " '고등학교',\n",
       " '',\n",
       " '-',\n",
       " '',\n",
       " '',\n",
       " '.  ~  .',\n",
       " '대학교',\n",
       " '과',\n",
       " '/4.5',\n",
       " '',\n",
       " '>\\r\\n<경 력 사 항',\n",
       " '근   무   기   간',\n",
       " '근 무 처',\n",
       " '직  위',\n",
       " '업 무',\n",
       " '.  ~  .  ( 년  개월)',\n",
       " '',\n",
       " '',\n",
       " '',\n",
       " '.  ~  .  ( 년  개월)',\n",
       " '',\n",
       " '',\n",
       " '',\n",
       " '.  ~  .  ( 년  개월)',\n",
       " '',\n",
       " '',\n",
       " '>\\r\\n<자 격 면 허',\n",
       " '자격면허증명',\n",
       " '시행기관',\n",
       " '취득년월',\n",
       " '외 국 어',\n",
       " '종 류',\n",
       " '수 준',\n",
       " '',\n",
       " '',\n",
       " '',\n",
       " '',\n",
       " '상 · 중 · 하',\n",
       " '',\n",
       " '',\n",
       " '',\n",
       " '',\n",
       " '상 · 중 · 하>\\r\\n<교육 / 활동 / 수상',\n",
       " '기 간',\n",
       " '교육, 활동 및 수상 내역',\n",
       " '병 역 사 항',\n",
       " '군필여부',\n",
       " '필․미필․면제․미해당',\n",
       " '',\n",
       " '',\n",
       " '군 별',\n",
       " '',\n",
       " '',\n",
       " '',\n",
       " '계 급',\n",
       " '',\n",
       " '',\n",
       " '',\n",
       " '복무기간',\n",
       " '.  ~  .  ( 년  개월)>\\r\\n<보 유 기 술',\n",
       " '내 용',\n",
       " '활용능력',\n",
       " '(정보통신, 그래픽 기술 등)',\n",
       " '상, 중, 하',\n",
       " '',\n",
       " '',\n",
       " '',\n",
       " '>\\r\\n\\r\\n                                               위의 내용은 사실과 틀림없음을 확인합니다.\\r\\n \\r\\n                                                   0000년  00월  00일  성명 :   \\r\\n\\r\\n']"
      ]
     },
     "execution_count": 9,
     "metadata": {},
     "output_type": "execute_result"
    }
   ],
   "source": [
    "splitData\n",
    "splitData[7] # 원하는 정보를 뽑으려고 이렇게 인덱싱하는 건 비효율  => '홍길동'"
   ]
  },
  {
   "cell_type": "code",
   "execution_count": 11,
   "metadata": {},
   "outputs": [
    {
     "data": {
      "text/plain": [
       "[6, 10, 14]"
      ]
     },
     "execution_count": 11,
     "metadata": {},
     "output_type": "execute_result"
    }
   ],
   "source": [
    "# 이름, 생년원일, 연락처 정보를 가져오기\n",
    "splitData\n",
    "wantedData = ['성        명', '생 년 월 일', '연   락   처']  # 리스트로 생성\n",
    "wantedDataIndex = []  # 원하는 데이터의 각각의 인덱스를 반환해주는 공간 생성\n",
    "\n",
    "# 순회하기\n",
    "for i in splitData:\n",
    "    for j in wantedData:\n",
    "        if i == j:   \n",
    "            wantedDataIndex.append(splitData.index(i))  # 우리에게 필요한것은 i 에서 index를 wantedDataIndex에 어팬드해주기\n",
    "            \n",
    "wantedDataIndex\n",
    "\n",
    "# [6, 10, 14]라고 나오는 의미는 '성명','생년월일','연락처'의 인덱스를 나타낸다.\n",
    "# 즉, 우리가 원하는 데이터는 그 뒤에 있다는 것! "
   ]
  },
  {
   "cell_type": "code",
   "execution_count": 14,
   "metadata": {},
   "outputs": [
    {
     "data": {
      "text/plain": [
       "'000-0000-0000'"
      ]
     },
     "execution_count": 14,
     "metadata": {},
     "output_type": "execute_result"
    }
   ],
   "source": [
    "# 위에 이어서\n",
    "# 이름, 생년원일, 연락처 정보를 가져오기\n",
    "\n",
    "splitData\n",
    "wantedData = ['성        명', '생 년 월 일', '연   락   처']  \n",
    "wantedDataIndex = []  \n",
    "\n",
    "# 순회하기\n",
    "for i in splitData:\n",
    "    for j in wantedData:\n",
    "        if i == j:   \n",
    "            wantedDataIndex.append(splitData.index(i) + 1)  # <- 위 인덱스에서 그 다음 데이터를 원하는것이니까 (i)+1\n",
    "            \n",
    "splitData[wantedDataIndex[0]]\n",
    "splitData[wantedDataIndex[1]]\n",
    "splitData[wantedDataIndex[2]]"
   ]
  },
  {
   "cell_type": "code",
   "execution_count": 15,
   "metadata": {},
   "outputs": [
    {
     "name": "stdout",
     "output_type": "stream",
     "text": [
      "홍길동\n",
      "1990년  8월  13일\n",
      "000-0000-0000\n"
     ]
    }
   ],
   "source": [
    "# for문으로 우리가 원하는데이터 출력\n",
    "\n",
    "for i in wantedDataIndex:\n",
    "    print(splitData[i])"
   ]
  },
  {
   "cell_type": "code",
   "execution_count": 17,
   "metadata": {},
   "outputs": [],
   "source": [
    "# 파일명을 저장하는 게 중요!\n",
    "workbook = xlsxwriter.Workbook('tutorial_2_2_2.xlsx')\n",
    "worksheet = workbook.add_worksheet()\n",
    "\n",
    "row = 0\n",
    "col = 0\n",
    "\n",
    "for i in wantedDataIndex:\n",
    "    worksheet.write(row, col, splitData[i-1]) # -1은 정리를 위함\n",
    "    worksheet.write(row, col, splitData[i])\n",
    "    row += 1\n",
    "    \n",
    "workbook.close()"
   ]
  },
  {
   "cell_type": "code",
   "execution_count": null,
   "metadata": {},
   "outputs": [],
   "source": []
  },
  {
   "cell_type": "code",
   "execution_count": null,
   "metadata": {},
   "outputs": [],
   "source": []
  },
  {
   "cell_type": "code",
   "execution_count": null,
   "metadata": {},
   "outputs": [],
   "source": []
  },
  {
   "cell_type": "code",
   "execution_count": null,
   "metadata": {},
   "outputs": [],
   "source": []
  },
  {
   "cell_type": "code",
   "execution_count": null,
   "metadata": {},
   "outputs": [],
   "source": []
  }
 ],
 "metadata": {
  "kernelspec": {
   "display_name": "Python 3",
   "language": "python",
   "name": "python3"
  },
  "language_info": {
   "codemirror_mode": {
    "name": "ipython",
    "version": 3
   },
   "file_extension": ".py",
   "mimetype": "text/x-python",
   "name": "python",
   "nbconvert_exporter": "python",
   "pygments_lexer": "ipython3",
   "version": "3.7.1"
  }
 },
 "nbformat": 4,
 "nbformat_minor": 2
}
