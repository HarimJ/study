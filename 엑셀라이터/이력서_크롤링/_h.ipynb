{
 "cells": [
  {
   "cell_type": "code",
   "execution_count": null,
   "metadata": {},
   "outputs": [],
   "source": [
    "import xlsxwriter\n",
    "import ole"
   ]
  },
  {
   "cell_type": "code",
   "execution_count": 1,
   "metadata": {},
   "outputs": [
    {
     "name": "stdout",
     "output_type": "stream",
     "text": [
      "('FileHeader', 'DocInfo', '\\x05HwpSummaryInformation', 'PrvImage', 'PrvText', 'Scripts/JScriptVersion', 'Scripts/DefaultJScript', 'DocOptions/_LinkDoc', 'BodyText/Section0')\n",
      "이  력  서\r\n",
      "<인적사항><성          명><홍길동><생  년  월  일><1993년 8월 13일><현    주    소><제주특별자치도 제주시><연    락    처><010-2233-1478><이    메    일><ab8ab@naver.com>\r\n",
      "\r\n",
      "<학력사항><학교명><전공><성적><졸업구분><소재지><건국대학교><컴퓨터공학과><4.1/4.5><졸업><서울>\r\n",
      "\r\n",
      "<자격면허><자격면허증명><시행기관><취득년월><TOEIC><점수><정보처리기사><한국산업인력공단><19.05.22><725점><한국사능력검정 1급><국사편찬위원회><19.08.23>\r\n",
      "\r\n",
      "<교육 / 활동 / 수상><기간><활동 내용><병역사항><군필여부><군필><19.11 ~ 20.03><빅데이터 전략 마에스트로><군별><육군><><><계급><병장><><><복무기간><15.02~16.11>\r\n",
      "\r\n",
      "<컴퓨터 언어   능력 (상/중/하)><R><Python><Javascript><SQL><HTML/CSS><상><중><중><하><하>\r\n",
      "\r\n",
      "위의 내용은 사실과 틀림없음을 확인합니다.\r\n",
      "\r\n",
      "2020년 5월 11일 성명 : 홍길동\r\n",
      "\n"
     ]
    }
   ],
   "source": [
    "with ole.open('./data/이력서_1.hwp') as f:\n",
    "    print(f.list_streams())   # file header 정보\n",
    "    print(f.get_stream('PrvText').read().decode('utf-16le')) "
   ]
  },
  {
   "cell_type": "code",
   "execution_count": 8,
   "metadata": {},
   "outputs": [],
   "source": [
    "with ole.open('./data/이력서_1.hwp') as f :\n",
    "    data = (f.get_stream('PrvText').read().decode('utf-16le'))\n",
    "    \n",
    "splitData = data.split('><')"
   ]
  },
  {
   "cell_type": "code",
   "execution_count": 12,
   "metadata": {},
   "outputs": [
    {
     "data": {
      "text/plain": [
       "['이  력  서\\r\\n<인적사항',\n",
       " '성          명',\n",
       " '홍길동',\n",
       " '생  년  월  일',\n",
       " '1993년 8월 13일',\n",
       " '현    주    소',\n",
       " '제주특별자치도 제주시',\n",
       " '연    락    처',\n",
       " '010-2233-1478',\n",
       " '이    메    일',\n",
       " 'ab8ab@naver.com>\\r\\n\\r\\n<학력사항',\n",
       " '학교명',\n",
       " '전공',\n",
       " '성적',\n",
       " '졸업구분',\n",
       " '소재지',\n",
       " '건국대학교',\n",
       " '컴퓨터공학과',\n",
       " '4.1/4.5',\n",
       " '졸업',\n",
       " '서울>\\r\\n\\r\\n<자격면허',\n",
       " '자격면허증명',\n",
       " '시행기관',\n",
       " '취득년월',\n",
       " 'TOEIC',\n",
       " '점수',\n",
       " '정보처리기사',\n",
       " '한국산업인력공단',\n",
       " '19.05.22',\n",
       " '725점',\n",
       " '한국사능력검정 1급',\n",
       " '국사편찬위원회',\n",
       " '19.08.23>\\r\\n\\r\\n<교육 / 활동 / 수상',\n",
       " '기간',\n",
       " '활동 내용',\n",
       " '병역사항',\n",
       " '군필여부',\n",
       " '군필',\n",
       " '19.11 ~ 20.03',\n",
       " '빅데이터 전략 마에스트로',\n",
       " '군별',\n",
       " '육군',\n",
       " '',\n",
       " '',\n",
       " '계급',\n",
       " '병장',\n",
       " '',\n",
       " '',\n",
       " '복무기간',\n",
       " '15.02~16.11>\\r\\n\\r\\n<컴퓨터 언어   능력 (상/중/하)',\n",
       " 'R',\n",
       " 'Python',\n",
       " 'Javascript',\n",
       " 'SQL',\n",
       " 'HTML/CSS',\n",
       " '상',\n",
       " '중',\n",
       " '중',\n",
       " '하',\n",
       " '하>\\r\\n\\r\\n위의 내용은 사실과 틀림없음을 확인합니다.\\r\\n\\r\\n2020년 5월 11일 성명 : 홍길동\\r\\n']"
      ]
     },
     "execution_count": 12,
     "metadata": {},
     "output_type": "execute_result"
    }
   ],
   "source": [
    "splitData"
   ]
  },
  {
   "cell_type": "code",
   "execution_count": null,
   "metadata": {},
   "outputs": [],
   "source": [
    "\n",
    "wantedData = []\n",
    "wantedDataIndex = ['성명','생년월일','연락처','이메일','전공','소재지','자격면허','컴퓨터능력']\n"
   ]
  },
  {
   "cell_type": "code",
   "execution_count": null,
   "metadata": {},
   "outputs": [],
   "source": []
  },
  {
   "cell_type": "code",
   "execution_count": null,
   "metadata": {},
   "outputs": [],
   "source": []
  },
  {
   "cell_type": "code",
   "execution_count": null,
   "metadata": {},
   "outputs": [],
   "source": []
  },
  {
   "cell_type": "code",
   "execution_count": null,
   "metadata": {},
   "outputs": [],
   "source": []
  },
  {
   "cell_type": "code",
   "execution_count": 7,
   "metadata": {},
   "outputs": [
    {
     "data": {
      "text/plain": [
       "'졸업구분'"
      ]
     },
     "execution_count": 7,
     "metadata": {},
     "output_type": "execute_result"
    }
   ],
   "source": [
    "splitData\n",
    "wantedData = ['성          명', '생  년  월  일','성적' , '소재지', 'TOEIC']\n",
    "wantedDataIndex = []\n",
    "\n",
    "for i in splitData:\n",
    "    for j in wantedData:\n",
    "        if i == j:\n",
    "            wantedDataIndex.append(splitData.index(i) + 1 )\n",
    "            \n",
    "splitData[wantedDataIndex[2]]"
   ]
  },
  {
   "cell_type": "code",
   "execution_count": null,
   "metadata": {},
   "outputs": [],
   "source": []
  }
 ],
 "metadata": {
  "kernelspec": {
   "display_name": "Python 3",
   "language": "python",
   "name": "python3"
  },
  "language_info": {
   "codemirror_mode": {
    "name": "ipython",
    "version": 3
   },
   "file_extension": ".py",
   "mimetype": "text/x-python",
   "name": "python",
   "nbconvert_exporter": "python",
   "pygments_lexer": "ipython3",
   "version": "3.7.1"
  }
 },
 "nbformat": 4,
 "nbformat_minor": 2
}
