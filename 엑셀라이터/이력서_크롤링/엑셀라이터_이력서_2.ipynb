{
 "cells": [
  {
   "cell_type": "code",
   "execution_count": 1,
   "metadata": {},
   "outputs": [],
   "source": [
    "def result(data):\n",
    "    data = data.split('><')\n",
    "    data_out = [ ]\n",
    "    df = ['성          명' , '생  년  월  일', '현    주    소', '연    락    처','이    메    일']\n",
    "    for i in range(len(data)):\n",
    "        for j in range(len(df)):\n",
    "            if data[i] == '이    메    일':\n",
    "                a = data[i+1].find('>')\n",
    "                data_out.append(data[i+1][:a])\n",
    "                break\n",
    "            if data[i] == df[j]:\n",
    "                data_out.append(data[i+1])\n",
    "    df1 = ['학교명','전공','성적','졸업구분','소재지']\n",
    "    for i in range(len(data)):\n",
    "        for j in range(len(df1)):\n",
    "            if data[i] == '소재지':\n",
    "                b = data[i+5].find('>')\n",
    "                data_out.append(data[i+5][:b])\n",
    "                break\n",
    "            if data[i] ==df1[j]:\n",
    "                data_out.append(data[i+5]) \n",
    "    i = data.index('점수')\n",
    "    while True:\n",
    "        i += 1\n",
    "        if data[i] != '기간':\n",
    "            data_out.append(data[i])\n",
    "        else: \n",
    "            break\n",
    "    df3 = ['군필','군별','계급','복무기간']\n",
    "    for i in range(len(data)):\n",
    "        for j in range(len(df3)):\n",
    "            if data[i] == '복무기간':\n",
    "                a = data[i+1].find('>')\n",
    "                data_out.append(data[i+1][:a])\n",
    "                break\n",
    "            if data[i] == df3[j]:\n",
    "                data_out.append(data[i+1])\n",
    "    df4 = [ 'R','Python','Javascript','SQL','HTML/CSS']\n",
    "    for i in range(len(data)):\n",
    "        for j in range(len(df4)):\n",
    "            if data[i] == 'HTML/CSS':\n",
    "                a = data[i+5].find('>')\n",
    "                data_out.append(data[i+4][:a])\n",
    "                break\n",
    "            if data[i] == df4[j]:\n",
    "                data_out.append(data[i+5])\n",
    "    return data_out\n"
   ]
  },
  {
   "cell_type": "code",
   "execution_count": 2,
   "metadata": {},
   "outputs": [
    {
     "data": {
      "text/plain": [
       "['이서역',\n",
       " '1995년 8월 8일',\n",
       " '제주특별자치도 제주시',\n",
       " '010-0808-9588',\n",
       " 'weststation@daum.net',\n",
       " '제주대학교',\n",
       " '컴퓨터교육과',\n",
       " '4.2/4.5',\n",
       " '졸업',\n",
       " '제주',\n",
       " '정보처리기사',\n",
       " '국가기술자격검정',\n",
       " '18.05.15',\n",
       " '690점',\n",
       " '컴퓨터활용능력 1급',\n",
       " '대한상공회의소',\n",
       " '19.03.13>\\r\\n\\r\\n<교육 / 활동 / 수상',\n",
       " '17.09 ~ 17.12',\n",
       " '육군',\n",
       " '병장',\n",
       " '15.05~17.02',\n",
       " '중',\n",
       " '중',\n",
       " '하',\n",
       " '하',\n",
       " '하']"
      ]
     },
     "execution_count": 2,
     "metadata": {},
     "output_type": "execute_result"
    }
   ],
   "source": [
    "# pip install ole-py\n",
    "import ole \n",
    "\n",
    "with ole.open('./data/이력서_18.hwp') as f:\n",
    "    data = f.get_stream('PrvText').read().decode('utf-16le')\n",
    "    \n",
    "d = result(data)\n",
    "d"
   ]
  },
  {
   "cell_type": "code",
   "execution_count": 3,
   "metadata": {},
   "outputs": [],
   "source": [
    "tot = []"
   ]
  },
  {
   "cell_type": "markdown",
   "metadata": {},
   "source": [
    "### 학점"
   ]
  },
  {
   "cell_type": "code",
   "execution_count": 4,
   "metadata": {},
   "outputs": [
    {
     "data": {
      "text/plain": [
       "[8]"
      ]
     },
     "execution_count": 4,
     "metadata": {},
     "output_type": "execute_result"
    }
   ],
   "source": [
    "s = d[7]\n",
    "s = s.replace('/4.5','')\n",
    "s = float(s)\n",
    "\n",
    "if s >=4.3 : \n",
    "    tot.append(10)\n",
    "    \n",
    "elif 4.3>s>=4.1 :\n",
    "    tot.append(8)\n",
    "        \n",
    "elif 4.1>s>=3.9 :\n",
    "    tot.append(6)\n",
    "    \n",
    "else :\n",
    "     tot.append(4)\n",
    "        \n",
    "tot"
   ]
  },
  {
   "cell_type": "markdown",
   "metadata": {},
   "source": [
    "### 서울 vs 지방"
   ]
  },
  {
   "cell_type": "code",
   "execution_count": 5,
   "metadata": {},
   "outputs": [],
   "source": [
    "서울권 = []\n",
    "지방권 = []"
   ]
  },
  {
   "cell_type": "code",
   "execution_count": 6,
   "metadata": {},
   "outputs": [
    {
     "name": "stdout",
     "output_type": "stream",
     "text": [
      "[]\n",
      "['제주']\n"
     ]
    }
   ],
   "source": [
    "if d[9] == '서울' :\n",
    "    서울권.append(d[9])\n",
    "    \n",
    "else : \n",
    "    지방권.append(d[9])\n",
    "print(서울권)\n",
    "print(지방권)"
   ]
  },
  {
   "cell_type": "markdown",
   "metadata": {},
   "source": [
    "### 자격증"
   ]
  },
  {
   "cell_type": "code",
   "execution_count": 7,
   "metadata": {},
   "outputs": [
    {
     "data": {
      "text/plain": [
       "[8, 6]"
      ]
     },
     "execution_count": 7,
     "metadata": {},
     "output_type": "execute_result"
    }
   ],
   "source": [
    "any_list = []\n",
    "certi_list=[]\n",
    "score = 0\n",
    "\n",
    "for i in range(10, 16) :\n",
    "    any_list.append(d[i])\n",
    "certi_list.append(any_list[0])\n",
    "certi_list.append(any_list[4])\n",
    "    \n",
    "\n",
    "for i in range(2) :\n",
    "    if certi_list[i] == '' :\n",
    "        score += 0\n",
    "    else :\n",
    "        if certi_list[i].find('기사') == 4 :\n",
    "             score += 5\n",
    "        else : \n",
    "            score += 1\n",
    "tot.append(score)\n",
    "\n",
    "tot"
   ]
  },
  {
   "cell_type": "markdown",
   "metadata": {},
   "source": [
    "### 토익능력"
   ]
  },
  {
   "cell_type": "code",
   "execution_count": 8,
   "metadata": {},
   "outputs": [
    {
     "data": {
      "text/plain": [
       "[8, 6, 4]"
      ]
     },
     "execution_count": 8,
     "metadata": {},
     "output_type": "execute_result"
    }
   ],
   "source": [
    "toeic_score = int(d[13].replace('점', ''))\n",
    "\n",
    "if toeic_score >900 :\n",
    "    tot.append(10)\n",
    "elif 900 >= toeic_score >800 : \n",
    "    tot.append(8)\n",
    "elif 800 >= toeic_score >700 : \n",
    "    tot.append(6)\n",
    "else : \n",
    "    tot.append(4)\n",
    "    \n",
    "tot"
   ]
  },
  {
   "cell_type": "markdown",
   "metadata": {},
   "source": [
    "### 컴퓨터 능력 -상 중 하"
   ]
  },
  {
   "cell_type": "code",
   "execution_count": 9,
   "metadata": {},
   "outputs": [
    {
     "name": "stdout",
     "output_type": "stream",
     "text": [
      "중\n",
      "중\n",
      "하\n",
      "하\n",
      "하\n",
      "26\n"
     ]
    },
    {
     "data": {
      "text/plain": [
       "[8, 6, 4, 26]"
      ]
     },
     "execution_count": 9,
     "metadata": {},
     "output_type": "execute_result"
    }
   ],
   "source": [
    "score = 0\n",
    "for i in list(d[-5:]) :\n",
    "    print(i)\n",
    "    if i == '상' :\n",
    "        score +=10\n",
    "    elif i == '중' :\n",
    "        score += 7\n",
    "    else : \n",
    "        score += 4\n",
    "    \n",
    "print(score)\n",
    "tot.append(score)\n",
    "tot"
   ]
  },
  {
   "cell_type": "code",
   "execution_count": 10,
   "metadata": {},
   "outputs": [
    {
     "data": {
      "text/html": [
       "<div>\n",
       "<style scoped>\n",
       "    .dataframe tbody tr th:only-of-type {\n",
       "        vertical-align: middle;\n",
       "    }\n",
       "\n",
       "    .dataframe tbody tr th {\n",
       "        vertical-align: top;\n",
       "    }\n",
       "\n",
       "    .dataframe thead th {\n",
       "        text-align: right;\n",
       "    }\n",
       "</style>\n",
       "<table border=\"1\" class=\"dataframe\">\n",
       "  <thead>\n",
       "    <tr style=\"text-align: right;\">\n",
       "      <th></th>\n",
       "      <th>학점</th>\n",
       "      <th>자격증</th>\n",
       "      <th>토익</th>\n",
       "      <th>컴퓨터능력</th>\n",
       "    </tr>\n",
       "  </thead>\n",
       "  <tbody>\n",
       "    <tr>\n",
       "      <th>사람</th>\n",
       "      <td>8</td>\n",
       "      <td>6</td>\n",
       "      <td>4</td>\n",
       "      <td>26</td>\n",
       "    </tr>\n",
       "  </tbody>\n",
       "</table>\n",
       "</div>"
      ],
      "text/plain": [
       "    학점  자격증  토익  컴퓨터능력\n",
       "사람   8    6   4     26"
      ]
     },
     "execution_count": 10,
     "metadata": {},
     "output_type": "execute_result"
    }
   ],
   "source": [
    "import pandas as pd\n",
    "\n",
    "df = pd.DataFrame(tot).T\n",
    "df = df.rename(index = {0 : '사람'}, columns = {0 : '학점', 1 : '자격증', 2: '토익', 3: '컴퓨터능력'})\n",
    "df"
   ]
  },
  {
   "cell_type": "code",
   "execution_count": 16,
   "metadata": {},
   "outputs": [
    {
     "data": {
      "text/plain": [
       "['이서역',\n",
       " '1995년 8월 8일',\n",
       " '제주특별자치도 제주시',\n",
       " '010-0808-9588',\n",
       " 'weststation@daum.net',\n",
       " '제주대학교',\n",
       " '컴퓨터교육과']"
      ]
     },
     "execution_count": 16,
     "metadata": {},
     "output_type": "execute_result"
    }
   ],
   "source": [
    "wantedData = d[0:7]\n",
    "wantedDataField = ['성명','생년월일','주소','연락처','이메일','대학교','전공','학점','자격증','토익','컴퓨터능력','합계']\n",
    "wantedData"
   ]
  },
  {
   "cell_type": "code",
   "execution_count": 13,
   "metadata": {},
   "outputs": [
    {
     "data": {
      "text/plain": [
       "44"
      ]
     },
     "execution_count": 13,
     "metadata": {},
     "output_type": "execute_result"
    }
   ],
   "source": [
    "# 합계\n",
    "total = sum(tot)\n",
    "total"
   ]
  },
  {
   "cell_type": "code",
   "execution_count": 14,
   "metadata": {},
   "outputs": [
    {
     "data": {
      "text/plain": [
       "[8, 6, 4, 26, 44]"
      ]
     },
     "execution_count": 14,
     "metadata": {},
     "output_type": "execute_result"
    }
   ],
   "source": [
    "tot.append(total)\n",
    "tot"
   ]
  },
  {
   "cell_type": "code",
   "execution_count": 18,
   "metadata": {},
   "outputs": [
    {
     "data": {
      "text/plain": [
       "['이서역',\n",
       " '1995년 8월 8일',\n",
       " '제주특별자치도 제주시',\n",
       " '010-0808-9588',\n",
       " 'weststation@daum.net',\n",
       " '제주대학교',\n",
       " '컴퓨터교육과',\n",
       " 8,\n",
       " 6,\n",
       " 4,\n",
       " 26,\n",
       " 44]"
      ]
     },
     "execution_count": 18,
     "metadata": {},
     "output_type": "execute_result"
    }
   ],
   "source": [
    "wantedData.extend(tot)\n",
    "wantedData"
   ]
  },
  {
   "cell_type": "code",
   "execution_count": 19,
   "metadata": {},
   "outputs": [],
   "source": [
    "# 엑셀에 저장\n",
    "import xlsxwriter\n",
    "\n",
    "workbook = xlsxwriter.Workbook('test_1.xlsx')\n",
    "worksheet = workbook.add_worksheet()\n",
    "\n",
    "row = 0\n",
    "col = 0\n",
    "for i in wantedDataField :\n",
    "    worksheet.write(row, col, i)\n",
    "    col += 1\n",
    "    \n",
    "col = 0    \n",
    "for i in range(len(wantedData)):\n",
    "    worksheet.write(row+1, col+i, wantedData[i])\n",
    "    \n",
    "workbook.close()"
   ]
  },
  {
   "cell_type": "code",
   "execution_count": 22,
   "metadata": {},
   "outputs": [],
   "source": [
    "# 100번 순회\n",
    "workbook = xlsxwriter.Workbook('test_2.xlsx')\n",
    "worksheet = workbook.add_worksheet()\n",
    "\n",
    "row = 0\n",
    "col = 0\n",
    "for i in wantedDataField :\n",
    "    worksheet.write(row, col, i)\n",
    "    col += 1\n",
    "    \n",
    "col = 0\n",
    "for k in range(100):\n",
    "    for i in range(len(wantedData)):\n",
    "        worksheet.write(row+k+1, col+i, wantedData[i])\n",
    "    \n",
    "workbook.close()"
   ]
  },
  {
   "cell_type": "code",
   "execution_count": null,
   "metadata": {},
   "outputs": [],
   "source": []
  },
  {
   "cell_type": "code",
   "execution_count": null,
   "metadata": {},
   "outputs": [],
   "source": []
  },
  {
   "cell_type": "code",
   "execution_count": null,
   "metadata": {},
   "outputs": [],
   "source": []
  },
  {
   "cell_type": "code",
   "execution_count": null,
   "metadata": {},
   "outputs": [],
   "source": []
  }
 ],
 "metadata": {
  "kernelspec": {
   "display_name": "Python 3",
   "language": "python",
   "name": "python3"
  },
  "language_info": {
   "codemirror_mode": {
    "name": "ipython",
    "version": 3
   },
   "file_extension": ".py",
   "mimetype": "text/x-python",
   "name": "python",
   "nbconvert_exporter": "python",
   "pygments_lexer": "ipython3",
   "version": "3.7.1"
  }
 },
 "nbformat": 4,
 "nbformat_minor": 4
}
